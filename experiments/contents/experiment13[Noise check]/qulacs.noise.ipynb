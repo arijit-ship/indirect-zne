{
 "cells": [
  {
   "cell_type": "markdown",
   "id": "f7d12993",
   "metadata": {},
   "source": [
    "# Appendix\n",
    "---"
   ]
  },
  {
   "cell_type": "code",
   "execution_count": 1,
   "id": "55d2a2a3",
   "metadata": {},
   "outputs": [],
   "source": [
    "import os\n",
    "from datetime import datetime\n",
    "from typing import Dict, List, Tuple, Union\n",
    "\n",
    "import matplotlib.pyplot as plt\n",
    "import numpy as np\n",
    "from qulacs import DensityMatrix, Observable, QuantumCircuit, QuantumState\n",
    "from qulacs.gate import CZ, RX, RY, RZ, Identity, Y, merge\n",
    "from qulacsvis import circuit_drawer\n",
    "from scipy.optimize import minimize\n",
    "\n",
    "import pennylane as qml"
   ]
  },
  {
   "cell_type": "code",
   "execution_count": 2,
   "id": "34ef6f32",
   "metadata": {},
   "outputs": [
    {
     "data": {
      "image/png": "[encoded data removed]",
      "text/plain": [
       "<Figure size 540x367.2 with 1 Axes>"
      ]
     },
     "execution_count": 2,
     "metadata": {},
     "output_type": "execute_result"
    }
   ],
   "source": [
    "nqubit: int = 4\n",
    "noise_prob: float = 0.001\n",
    "state = DensityMatrix(nqubit)\n",
    "circuit = QuantumCircuit(nqubit)\n",
    "circuit.add_H_gate(0)\n",
    "circuit.add_H_gate(1)\n",
    "circuit.add_CNOT_gate(0, 1)\n",
    "circuit.add_CNOT_gate(1, 3)\n",
    "circuit.add_noise_gate(CZ(0, 1), \"Depolarizing\", noise_prob)\n",
    "circuit_drawer(circuit, \"mpl\")"
   ]
  },
  {
   "cell_type": "code",
   "execution_count": 3,
   "id": "7556b62f",
   "metadata": {},
   "outputs": [
    {
     "name": "stdout",
     "output_type": "stream",
     "text": [
      " *** Density Matrix ***\n",
      " * Qubit Count : 4\n",
      " * Dimension   : 16\n",
      " * Density matrix : \n",
      "(1,0) (0,0) (0,0) (0,0) (0,0) (0,0) (0,0) (0,0) (0,0) (0,0) (0,0) (0,0) (0,0) (0,0) (0,0) (0,0)\n",
      "(0,0) (0,0) (0,0) (0,0) (0,0) (0,0) (0,0) (0,0) (0,0) (0,0) (0,0) (0,0) (0,0) (0,0) (0,0) (0,0)\n",
      "(0,0) (0,0) (0,0) (0,0) (0,0) (0,0) (0,0) (0,0) (0,0) (0,0) (0,0) (0,0) (0,0) (0,0) (0,0) (0,0)\n",
      "(0,0) (0,0) (0,0) (0,0) (0,0) (0,0) (0,0) (0,0) (0,0) (0,0) (0,0) (0,0) (0,0) (0,0) (0,0) (0,0)\n",
      "(0,0) (0,0) (0,0) (0,0) (0,0) (0,0) (0,0) (0,0) (0,0) (0,0) (0,0) (0,0) (0,0) (0,0) (0,0) (0,0)\n",
      "(0,0) (0,0) (0,0) (0,0) (0,0) (0,0) (0,0) (0,0) (0,0) (0,0) (0,0) (0,0) (0,0) (0,0) (0,0) (0,0)\n",
      "(0,0) (0,0) (0,0) (0,0) (0,0) (0,0) (0,0) (0,0) (0,0) (0,0) (0,0) (0,0) (0,0) (0,0) (0,0) (0,0)\n",
      "(0,0) (0,0) (0,0) (0,0) (0,0) (0,0) (0,0) (0,0) (0,0) (0,0) (0,0) (0,0) (0,0) (0,0) (0,0) (0,0)\n",
      "(0,0) (0,0) (0,0) (0,0) (0,0) (0,0) (0,0) (0,0) (0,0) (0,0) (0,0) (0,0) (0,0) (0,0) (0,0) (0,0)\n",
      "(0,0) (0,0) (0,0) (0,0) (0,0) (0,0) (0,0) (0,0) (0,0) (0,0) (0,0) (0,0) (0,0) (0,0) (0,0) (0,0)\n",
      "(0,0) (0,0) (0,0) (0,0) (0,0) (0,0) (0,0) (0,0) (0,0) (0,0) (0,0) (0,0) (0,0) (0,0) (0,0) (0,0)\n",
      "(0,0) (0,0) (0,0) (0,0) (0,0) (0,0) (0,0) (0,0) (0,0) (0,0) (0,0) (0,0) (0,0) (0,0) (0,0) (0,0)\n",
      "(0,0) (0,0) (0,0) (0,0) (0,0) (0,0) (0,0) (0,0) (0,0) (0,0) (0,0) (0,0) (0,0) (0,0) (0,0) (0,0)\n",
      "(0,0) (0,0) (0,0) (0,0) (0,0) (0,0) (0,0) (0,0) (0,0) (0,0) (0,0) (0,0) (0,0) (0,0) (0,0) (0,0)\n",
      "(0,0) (0,0) (0,0) (0,0) (0,0) (0,0) (0,0) (0,0) (0,0) (0,0) (0,0) (0,0) (0,0) (0,0) (0,0) (0,0)\n",
      "(0,0) (0,0) (0,0) (0,0) (0,0) (0,0) (0,0) (0,0) (0,0) (0,0) (0,0) (0,0) (0,0) (0,0) (0,0) (0,0)\n",
      "\n"
     ]
    }
   ],
   "source": [
    "print(state)"
   ]
  },
  {
   "cell_type": "code",
   "execution_count": 4,
   "id": "ebbe2a72",
   "metadata": {},
   "outputs": [
    {
     "name": "stdout",
     "output_type": "stream",
     "text": [
      " *** Density Matrix ***\n",
      " * Qubit Count : 4\n",
      " * Dimension   : 16\n",
      " * Density matrix : \n",
      "   (0.249867,0)    (0.249733,0)           (0,0)           (0,0)           (0,0)           (0,0)           (0,0)           (0,0)           (0,0)           (0,0)    (0.249733,0)   (-0.249733,0)           (0,0)           (0,0)           (0,0)           (0,0)\n",
      "   (0.249733,0)    (0.249867,0)           (0,0)           (0,0)           (0,0)           (0,0)           (0,0)           (0,0)           (0,0)           (0,0)    (0.249733,0)   (-0.249733,0)           (0,0)           (0,0)           (0,0)           (0,0)\n",
      "          (0,0)           (0,0) (0.000133333,0)           (0,0)           (0,0)           (0,0)           (0,0)           (0,0)           (0,0)           (0,0)           (0,0)           (0,0)           (0,0)           (0,0)           (0,0)           (0,0)\n",
      "          (0,0)           (0,0)           (0,0) (0.000133333,0)           (0,0)           (0,0)           (0,0)           (0,0)           (0,0)           (0,0)           (0,0)           (0,0)           (0,0)           (0,0)           (0,0)           (0,0)\n",
      "          (0,0)           (0,0)           (0,0)           (0,0)           (0,0)           (0,0)           (0,0)           (0,0)           (0,0)           (0,0)           (0,0)           (0,0)           (0,0)           (0,0)           (0,0)           (0,0)\n",
      "          (0,0)           (0,0)           (0,0)           (0,0)           (0,0)           (0,0)           (0,0)           (0,0)           (0,0)           (0,0)           (0,0)           (0,0)           (0,0)           (0,0)           (0,0)           (0,0)\n",
      "          (0,0)           (0,0)           (0,0)           (0,0)           (0,0)           (0,0)           (0,0)           (0,0)           (0,0)           (0,0)           (0,0)           (0,0)           (0,0)           (0,0)           (0,0)           (0,0)\n",
      "          (0,0)           (0,0)           (0,0)           (0,0)           (0,0)           (0,0)           (0,0)           (0,0)           (0,0)           (0,0)           (0,0)           (0,0)           (0,0)           (0,0)           (0,0)           (0,0)\n",
      "          (0,0)           (0,0)           (0,0)           (0,0)           (0,0)           (0,0)           (0,0)           (0,0) (0.000133333,0)           (0,0)           (0,0)           (0,0)           (0,0)           (0,0)           (0,0)           (0,0)\n",
      "          (0,0)           (0,0)           (0,0)           (0,0)           (0,0)           (0,0)           (0,0)           (0,0)           (0,0) (0.000133333,0)           (0,0)           (0,0)           (0,0)           (0,0)           (0,0)           (0,0)\n",
      "   (0.249733,0)    (0.249733,0)           (0,0)           (0,0)           (0,0)           (0,0)           (0,0)           (0,0)           (0,0)           (0,0)    (0.249867,0)   (-0.249733,0)           (0,0)           (0,0)           (0,0)           (0,0)\n",
      "  (-0.249733,0)   (-0.249733,0)           (0,0)           (0,0)           (0,0)           (0,0)           (0,0)           (0,0)           (0,0)           (0,0)   (-0.249733,0)    (0.249867,0)           (0,0)           (0,0)           (0,0)           (0,0)\n",
      "          (0,0)           (0,0)           (0,0)           (0,0)           (0,0)           (0,0)           (0,0)           (0,0)           (0,0)           (0,0)           (0,0)           (0,0)           (0,0)           (0,0)           (0,0)           (0,0)\n",
      "          (0,0)           (0,0)           (0,0)           (0,0)           (0,0)           (0,0)           (0,0)           (0,0)           (0,0)           (0,0)           (0,0)           (0,0)           (0,0)           (0,0)           (0,0)           (0,0)\n",
      "          (0,0)           (0,0)           (0,0)           (0,0)           (0,0)           (0,0)           (0,0)           (0,0)           (0,0)           (0,0)           (0,0)           (0,0)           (0,0)           (0,0)           (0,0)           (0,0)\n",
      "          (0,0)           (0,0)           (0,0)           (0,0)           (0,0)           (0,0)           (0,0)           (0,0)           (0,0)           (0,0)           (0,0)           (0,0)           (0,0)           (0,0)           (0,0)           (0,0)\n",
      "\n"
     ]
    }
   ],
   "source": [
    "circuit.update_quantum_state(state)\n",
    "print(state)"
   ]
  },
  {
   "cell_type": "code",
   "execution_count": 5,
   "id": "e12f63a0",
   "metadata": {},
   "outputs": [
    {
     "data": {
      "image/png": "[encoded data removed]",
      "text/plain": [
       "<Figure size 604.8x367.2 with 1 Axes>"
      ]
     },
     "execution_count": 5,
     "metadata": {},
     "output_type": "execute_result"
    }
   ],
   "source": [
    "state2 = DensityMatrix(nqubit)\n",
    "circuit2 = QuantumCircuit(nqubit)\n",
    "circuit2.add_H_gate(0)\n",
    "circuit2.add_H_gate(1)\n",
    "circuit2.add_CNOT_gate(0, 1)\n",
    "circuit2.add_CNOT_gate(1, 3)\n",
    "circuit2.add_CZ_gate(0, 1)\n",
    "circuit2.add_noise_gate(Identity(0), \"Depolarizing\", noise_prob)\n",
    "circuit2.add_noise_gate(Identity(1), \"Depolarizing\", noise_prob)\n",
    "circuit_drawer(circuit2, \"mpl\")"
   ]
  },
  {
   "cell_type": "code",
   "execution_count": 6,
   "id": "56f62311",
   "metadata": {},
   "outputs": [
    {
     "name": "stdout",
     "output_type": "stream",
     "text": [
      " *** Density Matrix ***\n",
      " * Qubit Count : 4\n",
      " * Dimension   : 16\n",
      " * Density matrix : \n",
      "    (0.249833,0)       (0.2495,0)            (0,0)            (0,0)            (0,0)            (0,0)            (0,0)            (0,0)            (0,0)            (0,0)     (0.249334,0)    (-0.249334,0)            (0,0)            (0,0)            (0,0)            (0,0)\n",
      "      (0.2495,0)     (0.249833,0)            (0,0)            (0,0)            (0,0)            (0,0)            (0,0)            (0,0)            (0,0)            (0,0)     (0.249334,0)    (-0.249334,0)            (0,0)            (0,0)            (0,0)            (0,0)\n",
      "           (0,0)            (0,0)  (0.000166667,0)  (0.000166444,0)            (0,0)            (0,0)            (0,0)            (0,0)            (0,0)            (0,0)            (0,0)            (0,0)            (0,0)            (0,0)            (0,0)            (0,0)\n",
      "           (0,0)            (0,0)  (0.000166444,0)  (0.000166667,0)            (0,0)            (0,0)            (0,0)            (0,0)            (0,0)            (0,0)            (0,0)            (0,0)            (0,0)            (0,0)            (0,0)            (0,0)\n",
      "           (0,0)            (0,0)            (0,0)            (0,0)            (0,0)            (0,0)            (0,0)            (0,0)            (0,0)            (0,0)            (0,0)            (0,0)            (0,0)            (0,0)            (0,0)            (0,0)\n",
      "           (0,0)            (0,0)            (0,0)            (0,0)            (0,0)            (0,0)            (0,0)            (0,0)            (0,0)            (0,0)            (0,0)            (0,0)            (0,0)            (0,0)            (0,0)            (0,0)\n",
      "           (0,0)            (0,0)            (0,0)            (0,0)            (0,0)            (0,0)            (0,0)            (0,0)            (0,0)            (0,0)            (0,0)            (0,0)            (0,0)            (0,0)            (0,0)            (0,0)\n",
      "           (0,0)            (0,0)            (0,0)            (0,0)            (0,0)            (0,0)            (0,0)            (0,0)            (0,0)            (0,0)            (0,0)            (0,0)            (0,0)            (0,0)            (0,0)            (0,0)\n",
      "           (0,0)            (0,0)            (0,0)            (0,0)            (0,0)            (0,0)            (0,0)            (0,0)  (0.000166667,0) (-0.000166444,0)            (0,0)            (0,0)            (0,0)            (0,0)            (0,0)            (0,0)\n",
      "           (0,0)            (0,0)            (0,0)            (0,0)            (0,0)            (0,0)            (0,0)            (0,0) (-0.000166444,0)  (0.000166667,0)            (0,0)            (0,0)            (0,0)            (0,0)            (0,0)            (0,0)\n",
      "    (0.249334,0)     (0.249334,0)            (0,0)            (0,0)            (0,0)            (0,0)            (0,0)            (0,0)            (0,0)            (0,0)     (0.249833,0)      (-0.2495,0)            (0,0)            (0,0)            (0,0)            (0,0)\n",
      "   (-0.249334,0)    (-0.249334,0)            (0,0)            (0,0)            (0,0)            (0,0)            (0,0)            (0,0)            (0,0)            (0,0)      (-0.2495,0)     (0.249833,0)            (0,0)            (0,0)            (0,0)            (0,0)\n",
      "           (0,0)            (0,0)            (0,0)            (0,0)            (0,0)            (0,0)            (0,0)            (0,0)            (0,0)            (0,0)            (0,0)            (0,0)            (0,0)            (0,0)            (0,0)            (0,0)\n",
      "           (0,0)            (0,0)            (0,0)            (0,0)            (0,0)            (0,0)            (0,0)            (0,0)            (0,0)            (0,0)            (0,0)            (0,0)            (0,0)            (0,0)            (0,0)            (0,0)\n",
      "           (0,0)            (0,0)            (0,0)            (0,0)            (0,0)            (0,0)            (0,0)            (0,0)            (0,0)            (0,0)            (0,0)            (0,0)            (0,0)            (0,0)            (0,0)            (0,0)\n",
      "           (0,0)            (0,0)            (0,0)            (0,0)            (0,0)            (0,0)            (0,0)            (0,0)            (0,0)            (0,0)            (0,0)            (0,0)            (0,0)            (0,0)            (0,0)            (0,0)\n",
      "\n"
     ]
    }
   ],
   "source": [
    "circuit2.update_quantum_state(state2)\n",
    "print(state2)"
   ]
  },
  {
   "cell_type": "code",
   "execution_count": 7,
   "id": "965ebeeb",
   "metadata": {},
   "outputs": [
    {
     "data": {
      "text/plain": [
       "qulacs_core.DensityMatrix"
      ]
     },
     "execution_count": 7,
     "metadata": {},
     "output_type": "execute_result"
    }
   ],
   "source": [
    "type(state)"
   ]
  },
  {
   "cell_type": "code",
   "execution_count": 8,
   "id": "0dd2cc10",
   "metadata": {},
   "outputs": [],
   "source": [
    "mat1 = state.get_matrix()\n",
    "mat2 = state2.get_matrix()"
   ]
  },
  {
   "cell_type": "code",
   "execution_count": 9,
   "id": "86dc7baa",
   "metadata": {},
   "outputs": [
    {
     "data": {
      "text/plain": [
       "0.0"
      ]
     },
     "execution_count": 9,
     "metadata": {},
     "output_type": "execute_result"
    }
   ],
   "source": [
    "x = np.array([[1, 0], [0, 0]])\n",
    "qml.math.trace_distance(x, x)"
   ]
  },
  {
   "cell_type": "code",
   "execution_count": 10,
   "id": "7f7197d3",
   "metadata": {},
   "outputs": [
    {
     "data": {
      "text/plain": [
       "0.0013317777777778548"
      ]
     },
     "execution_count": 10,
     "metadata": {},
     "output_type": "execute_result"
    }
   ],
   "source": [
    "qml.math.trace_distance(mat1, mat2)"
   ]
  },
  {
   "cell_type": "code",
   "execution_count": 11,
   "id": "0e0d4e4e",
   "metadata": {},
   "outputs": [
    {
     "data": {
      "image/png": "[encoded data removed]",
      "text/plain": [
       "<Figure size 691.2x367.2 with 1 Axes>"
      ]
     },
     "execution_count": 11,
     "metadata": {},
     "output_type": "execute_result"
    }
   ],
   "source": [
    "state3 = DensityMatrix(nqubit)\n",
    "circuit3 = QuantumCircuit(nqubit)\n",
    "circuit3.add_H_gate(0)\n",
    "circuit3.add_H_gate(1)\n",
    "circuit3.add_CNOT_gate(0, 1)\n",
    "circuit3.add_CNOT_gate(1, 3)\n",
    "circuit3.add_RX_gate(0, 0.1)\n",
    "circuit3.add_noise_gate(Identity(0), \"Depolarizing\", noise_prob)\n",
    "circuit3.add_RY_gate(1, 0.2)\n",
    "circuit3.add_noise_gate(Identity(1), \"Depolarizing\", noise_prob)\n",
    "circuit_drawer(circuit3, \"mpl\")"
   ]
  },
  {
   "cell_type": "code",
   "execution_count": 12,
   "id": "411151bd",
   "metadata": {},
   "outputs": [
    {
     "name": "stdout",
     "output_type": "stream",
     "text": [
      " *** Density Matrix ***\n",
      " * Qubit Count : 4\n",
      " * Dimension   : 16\n",
      " * Density matrix : \n",
      "   (0.247345,0)    (0.247015,0)  (-0.0248006,0)  (-0.0247675,0)           (0,0)           (0,0)           (0,0)           (0,0)   (0.0248006,0)   (0.0247675,0)    (0.247178,0)    (0.246849,0)           (0,0)           (0,0)           (0,0)           (0,0)\n",
      "   (0.247015,0)    (0.247345,0)  (-0.0247675,0)  (-0.0248006,0)           (0,0)           (0,0)           (0,0)           (0,0)   (0.0247675,0)   (0.0248006,0)    (0.246849,0)    (0.247178,0)           (0,0)           (0,0)           (0,0)           (0,0)\n",
      " (-0.0248006,0)  (-0.0247675,0)  (0.00265502,0)  (0.00265148,0)           (0,0)           (0,0)           (0,0)           (0,0) (-0.00248836,0) (-0.00248504,0)  (-0.0248006,0)  (-0.0247675,0)           (0,0)           (0,0)           (0,0)           (0,0)\n",
      " (-0.0247675,0)  (-0.0248006,0)  (0.00265148,0)  (0.00265502,0)           (0,0)           (0,0)           (0,0)           (0,0) (-0.00248504,0) (-0.00248836,0)  (-0.0247675,0)  (-0.0248006,0)           (0,0)           (0,0)           (0,0)           (0,0)\n",
      "          (0,0)           (0,0)           (0,0)           (0,0)           (0,0)           (0,0)           (0,0)           (0,0)           (0,0)           (0,0)           (0,0)           (0,0)           (0,0)           (0,0)           (0,0)           (0,0)\n",
      "          (0,0)           (0,0)           (0,0)           (0,0)           (0,0)           (0,0)           (0,0)           (0,0)           (0,0)           (0,0)           (0,0)           (0,0)           (0,0)           (0,0)           (0,0)           (0,0)\n",
      "          (0,0)           (0,0)           (0,0)           (0,0)           (0,0)           (0,0)           (0,0)           (0,0)           (0,0)           (0,0)           (0,0)           (0,0)           (0,0)           (0,0)           (0,0)           (0,0)\n",
      "          (0,0)           (0,0)           (0,0)           (0,0)           (0,0)           (0,0)           (0,0)           (0,0)           (0,0)           (0,0)           (0,0)           (0,0)           (0,0)           (0,0)           (0,0)           (0,0)\n",
      "  (0.0248006,0)   (0.0247675,0) (-0.00248836,0) (-0.00248504,0)           (0,0)           (0,0)           (0,0)           (0,0)  (0.00265502,0)  (0.00265148,0)   (0.0248006,0)   (0.0247675,0)           (0,0)           (0,0)           (0,0)           (0,0)\n",
      "  (0.0247675,0)   (0.0248006,0) (-0.00248504,0) (-0.00248836,0)           (0,0)           (0,0)           (0,0)           (0,0)  (0.00265148,0)  (0.00265502,0)   (0.0247675,0)   (0.0248006,0)           (0,0)           (0,0)           (0,0)           (0,0)\n",
      "   (0.247178,0)    (0.246849,0)  (-0.0248006,0)  (-0.0247675,0)           (0,0)           (0,0)           (0,0)           (0,0)   (0.0248006,0)   (0.0247675,0)    (0.247345,0)    (0.247015,0)           (0,0)           (0,0)           (0,0)           (0,0)\n",
      "   (0.246849,0)    (0.247178,0)  (-0.0247675,0)  (-0.0248006,0)           (0,0)           (0,0)           (0,0)           (0,0)   (0.0247675,0)   (0.0248006,0)    (0.247015,0)    (0.247345,0)           (0,0)           (0,0)           (0,0)           (0,0)\n",
      "          (0,0)           (0,0)           (0,0)           (0,0)           (0,0)           (0,0)           (0,0)           (0,0)           (0,0)           (0,0)           (0,0)           (0,0)           (0,0)           (0,0)           (0,0)           (0,0)\n",
      "          (0,0)           (0,0)           (0,0)           (0,0)           (0,0)           (0,0)           (0,0)           (0,0)           (0,0)           (0,0)           (0,0)           (0,0)           (0,0)           (0,0)           (0,0)           (0,0)\n",
      "          (0,0)           (0,0)           (0,0)           (0,0)           (0,0)           (0,0)           (0,0)           (0,0)           (0,0)           (0,0)           (0,0)           (0,0)           (0,0)           (0,0)           (0,0)           (0,0)\n",
      "          (0,0)           (0,0)           (0,0)           (0,0)           (0,0)           (0,0)           (0,0)           (0,0)           (0,0)           (0,0)           (0,0)           (0,0)           (0,0)           (0,0)           (0,0)           (0,0)\n",
      "\n"
     ]
    }
   ],
   "source": [
    "circuit3.update_quantum_state(state3)\n",
    "print(state3)"
   ]
  },
  {
   "cell_type": "code",
   "execution_count": 13,
   "id": "48f5ca30",
   "metadata": {},
   "outputs": [
    {
     "data": {
      "image/png": "[encoded data removed]",
      "text/plain": [
       "<Figure size 626.4x367.2 with 1 Axes>"
      ]
     },
     "execution_count": 13,
     "metadata": {},
     "output_type": "execute_result"
    }
   ],
   "source": [
    "state4 = DensityMatrix(nqubit)\n",
    "circuit4 = QuantumCircuit(nqubit)\n",
    "circuit4.add_H_gate(0)\n",
    "circuit4.add_H_gate(1)\n",
    "circuit4.add_CNOT_gate(0, 1)\n",
    "circuit4.add_CNOT_gate(1, 3)\n",
    "circuit4.add_noise_gate(RX(0, 0.1), \"Depolarizing\", noise_prob)\n",
    "circuit4.add_noise_gate(RY(1, 0.2), \"Depolarizing\", noise_prob)\n",
    "circuit_drawer(circuit4, \"mpl\")"
   ]
  },
  {
   "cell_type": "code",
   "execution_count": 14,
   "id": "c4985fcc",
   "metadata": {},
   "outputs": [
    {
     "name": "stdout",
     "output_type": "stream",
     "text": [
      " *** Density Matrix ***\n",
      " * Qubit Count : 4\n",
      " * Dimension   : 16\n",
      " * Density matrix : \n",
      "   (0.247345,0)    (0.247015,0)  (-0.0248006,0)  (-0.0247675,0)           (0,0)           (0,0)           (0,0)           (0,0)   (0.0248006,0)   (0.0247675,0)    (0.247178,0)    (0.246849,0)           (0,0)           (0,0)           (0,0)           (0,0)\n",
      "   (0.247015,0)    (0.247345,0)  (-0.0247675,0)  (-0.0248006,0)           (0,0)           (0,0)           (0,0)           (0,0)   (0.0247675,0)   (0.0248006,0)    (0.246849,0)    (0.247178,0)           (0,0)           (0,0)           (0,0)           (0,0)\n",
      " (-0.0248006,0)  (-0.0247675,0)  (0.00265502,0)  (0.00265148,0)           (0,0)           (0,0)           (0,0)           (0,0) (-0.00248836,0) (-0.00248504,0)  (-0.0248006,0)  (-0.0247675,0)           (0,0)           (0,0)           (0,0)           (0,0)\n",
      " (-0.0247675,0)  (-0.0248006,0)  (0.00265148,0)  (0.00265502,0)           (0,0)           (0,0)           (0,0)           (0,0) (-0.00248504,0) (-0.00248836,0)  (-0.0247675,0)  (-0.0248006,0)           (0,0)           (0,0)           (0,0)           (0,0)\n",
      "          (0,0)           (0,0)           (0,0)           (0,0)           (0,0)           (0,0)           (0,0)           (0,0)           (0,0)           (0,0)           (0,0)           (0,0)           (0,0)           (0,0)           (0,0)           (0,0)\n",
      "          (0,0)           (0,0)           (0,0)           (0,0)           (0,0)           (0,0)           (0,0)           (0,0)           (0,0)           (0,0)           (0,0)           (0,0)           (0,0)           (0,0)           (0,0)           (0,0)\n",
      "          (0,0)           (0,0)           (0,0)           (0,0)           (0,0)           (0,0)           (0,0)           (0,0)           (0,0)           (0,0)           (0,0)           (0,0)           (0,0)           (0,0)           (0,0)           (0,0)\n",
      "          (0,0)           (0,0)           (0,0)           (0,0)           (0,0)           (0,0)           (0,0)           (0,0)           (0,0)           (0,0)           (0,0)           (0,0)           (0,0)           (0,0)           (0,0)           (0,0)\n",
      "  (0.0248006,0)   (0.0247675,0) (-0.00248836,0) (-0.00248504,0)           (0,0)           (0,0)           (0,0)           (0,0)  (0.00265502,0)  (0.00265148,0)   (0.0248006,0)   (0.0247675,0)           (0,0)           (0,0)           (0,0)           (0,0)\n",
      "  (0.0247675,0)   (0.0248006,0) (-0.00248504,0) (-0.00248836,0)           (0,0)           (0,0)           (0,0)           (0,0)  (0.00265148,0)  (0.00265502,0)   (0.0247675,0)   (0.0248006,0)           (0,0)           (0,0)           (0,0)           (0,0)\n",
      "   (0.247178,0)    (0.246849,0)  (-0.0248006,0)  (-0.0247675,0)           (0,0)           (0,0)           (0,0)           (0,0)   (0.0248006,0)   (0.0247675,0)    (0.247345,0)    (0.247015,0)           (0,0)           (0,0)           (0,0)           (0,0)\n",
      "   (0.246849,0)    (0.247178,0)  (-0.0247675,0)  (-0.0248006,0)           (0,0)           (0,0)           (0,0)           (0,0)   (0.0247675,0)   (0.0248006,0)    (0.247015,0)    (0.247345,0)           (0,0)           (0,0)           (0,0)           (0,0)\n",
      "          (0,0)           (0,0)           (0,0)           (0,0)           (0,0)           (0,0)           (0,0)           (0,0)           (0,0)           (0,0)           (0,0)           (0,0)           (0,0)           (0,0)           (0,0)           (0,0)\n",
      "          (0,0)           (0,0)           (0,0)           (0,0)           (0,0)           (0,0)           (0,0)           (0,0)           (0,0)           (0,0)           (0,0)           (0,0)           (0,0)           (0,0)           (0,0)           (0,0)\n",
      "          (0,0)           (0,0)           (0,0)           (0,0)           (0,0)           (0,0)           (0,0)           (0,0)           (0,0)           (0,0)           (0,0)           (0,0)           (0,0)           (0,0)           (0,0)           (0,0)\n",
      "          (0,0)           (0,0)           (0,0)           (0,0)           (0,0)           (0,0)           (0,0)           (0,0)           (0,0)           (0,0)           (0,0)           (0,0)           (0,0)           (0,0)           (0,0)           (0,0)\n",
      "\n"
     ]
    }
   ],
   "source": [
    "circuit3.update_quantum_state(state4)\n",
    "print(state4)"
   ]
  },
  {
   "cell_type": "code",
   "execution_count": 15,
   "id": "47bf8adf",
   "metadata": {},
   "outputs": [
    {
     "data": {
      "text/plain": [
       "0.0"
      ]
     },
     "execution_count": 15,
     "metadata": {},
     "output_type": "execute_result"
    }
   ],
   "source": [
    "mat3 = state3.get_matrix()\n",
    "mat4 = state4.get_matrix()\n",
    "qml.math.trace_distance(mat3, mat4)"
   ]
  }
 ],
 "metadata": {
  "kernelspec": {
   "display_name": ".env",
   "language": "python",
   "name": "python3"
  },
  "language_info": {
   "codemirror_mode": {
    "name": "ipython",
    "version": 3
   },
   "file_extension": ".py",
   "mimetype": "text/x-python",
   "name": "python",
   "nbconvert_exporter": "python",
   "pygments_lexer": "ipython3",
   "version": "3.11.0"
  }
 },
 "nbformat": 4,
 "nbformat_minor": 5
}
