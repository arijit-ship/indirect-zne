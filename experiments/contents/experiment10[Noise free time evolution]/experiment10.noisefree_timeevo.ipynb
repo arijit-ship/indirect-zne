{
 "cells": [
  {
   "cell_type": "markdown",
   "id": "16efb930",
   "metadata": {},
   "source": [
    "# ZNE with indirect-control VQE\n",
    "---\n",
    "\n",
    "This experiment is:\n",
    "\n",
    "- Qubit: 7, layer: 30\n",
    "- System has noise-free time evolution.\n",
    "- Target observable: Transverse field Ising Hamiltonian.\n",
    "- Ansatz time-evolution: XY, Ising, and Heisenberg Hamiltonians."
   ]
  },
  {
   "cell_type": "markdown",
   "id": "10e5a03c",
   "metadata": {},
   "source": [
    "## Import and setup"
   ]
  },
  {
   "cell_type": "code",
   "execution_count": 1,
   "id": "e3fadbab",
   "metadata": {},
   "outputs": [],
   "source": [
    "import os\n",
    "import json\n",
    "import numpy as np\n",
    "import matplotlib.pyplot as plt\n",
    "import pandas as pd\n",
    "from tabulate import tabulate"
   ]
  },
  {
   "cell_type": "code",
   "execution_count": 2,
   "id": "a0f93b74",
   "metadata": {},
   "outputs": [],
   "source": [
    "# Set the default font to be LaTeX compliant.\n",
    "plt.rcParams[\"font.family\"] = \"serif\"\n",
    "plt.rcParams[\"font.serif\"] = \"Computer Modern Roman\"\n",
    "plt.rcParams[\"text.usetex\"] = True\n",
    "\n",
    "# Set a global font size.\n",
    "font_size = 11\n",
    "plt.rcParams[\"font.size\"] = font_size\n",
    "plt.rcParams[\"axes.labelsize\"] = font_size\n",
    "plt.rcParams[\"xtick.labelsize\"] = font_size\n",
    "plt.rcParams[\"ytick.labelsize\"] = font_size\n",
    "plt.rcParams[\"legend.fontsize\"] = 10"
   ]
  },
  {
   "cell_type": "markdown",
   "id": "3ff52cc4",
   "metadata": {},
   "source": [
    "## (2) Loading the experimental data from JSON files\n",
    "\n",
    "The raw experimenal data are availabe at `data\\` folder"
   ]
  },
  {
   "cell_type": "code",
   "execution_count": 14,
   "id": "569af3c2",
   "metadata": {},
   "outputs": [],
   "source": [
    "experimental_data = {\n",
    "    \"xy_data\": None,\n",
    "    \"ising_data\": None,\n",
    "    \"heisenberg_data\": None,\n",
    "}\n",
    "\n",
    "# Define the paths to the subfolders\n",
    "base_path = \"data\"\n",
    "subfolders = [\"xy\", \"ising\", \"heisenberg\"]\n",
    "\n",
    "# Initialize a dictionary to store the experimental data\n",
    "experimental_data = {}\n",
    "\n",
    "# Load JSON data from each subfolder\n",
    "for subfolder in subfolders:\n",
    "    folder_path = os.path.join(base_path, subfolder)\n",
    "    json_files = [f for f in os.listdir(folder_path) if f.endswith(\".json\")]\n",
    "    \n",
    "    # Load all JSON files in the subfolder\n",
    "    data = []\n",
    "    for json_file in json_files:\n",
    "        file_path = os.path.join(folder_path, json_file)\n",
    "        with open(file_path, \"r\") as f:\n",
    "            data.append(json.load(f))\n",
    "    \n",
    "    # Store the data in the dictionary\n",
    "    experimental_data[f\"{subfolder}_data\"] = data\n"
   ]
  },
  {
   "cell_type": "markdown",
   "id": "a9dac4d7",
   "metadata": {},
   "source": [
    "## (3) Extracting data\n",
    "\n",
    "Now lets extract some unformations."
   ]
  },
  {
   "cell_type": "markdown",
   "id": "f6eba68c",
   "metadata": {},
   "source": [
    "### (A) The exact minimum eigen value\n",
    "\n",
    "The exact minimum eigen value of the target observable (i.e. tranverse field Ising Hamiltonian for a 7-qubit system) is $-8.566772233505624$. This value is recored in `file_name_prefix_ZNE.json` files."
   ]
  },
  {
   "cell_type": "code",
   "execution_count": 16,
   "id": "85b33406",
   "metadata": {},
   "outputs": [
    {
     "name": "stdout",
     "output_type": "stream",
     "text": [
      "Exact solution: -8.566772233505624\n"
     ]
    }
   ],
   "source": [
    "exact_sol: float = -8.566772233505624\n",
    "print(f\"Exact solution: {exact_sol}\")"
   ]
  },
  {
   "cell_type": "code",
   "execution_count": null,
   "id": "6977e666",
   "metadata": {},
   "outputs": [],
   "source": []
  }
 ],
 "metadata": {
  "kernelspec": {
   "display_name": ".env",
   "language": "python",
   "name": "python3"
  },
  "language_info": {
   "codemirror_mode": {
    "name": "ipython",
    "version": 3
   },
   "file_extension": ".py",
   "mimetype": "text/x-python",
   "name": "python",
   "nbconvert_exporter": "python",
   "pygments_lexer": "ipython3",
   "version": "3.11.0"
  }
 },
 "nbformat": 4,
 "nbformat_minor": 5
}
