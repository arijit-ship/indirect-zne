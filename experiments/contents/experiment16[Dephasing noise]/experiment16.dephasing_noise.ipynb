{
 "cells": [
  {
   "cell_type": "markdown",
   "id": "16efb930",
   "metadata": {},
   "source": [
    "# ZNE with indirect-control VQE\n",
    "---\n",
    "\n",
    "This experiment is:\n",
    "\n",
    "- Qubit: 7, layer: 30\n",
    "- System has noise-free time evolution.\n",
    "- Target observable: Transverse field Ising Hamiltonian.\n",
    "- Ansatz time-evolution: Noise-free time-evolution with XY, Ising, and Heisenberg Hamiltonians.\n",
    "- Constraint: True"
   ]
  },
  {
   "cell_type": "markdown",
   "id": "10e5a03c",
   "metadata": {},
   "source": [
    "## (1) Import and setup"
   ]
  },
  {
   "cell_type": "code",
   "execution_count": 29,
   "id": "e3fadbab",
   "metadata": {},
   "outputs": [],
   "source": [
    "import os\n",
    "import json\n",
    "import numpy as np\n",
    "import matplotlib.pyplot as plt\n",
    "import matplotlib.cm as cm\n",
    "import pandas as pd\n",
    "from tabulate import tabulate"
   ]
  },
  {
   "cell_type": "code",
   "execution_count": 30,
   "id": "a0f93b74",
   "metadata": {},
   "outputs": [],
   "source": [
    "# Set the default font to be LaTeX compliant.\n",
    "plt.rcParams[\"font.family\"] = \"serif\"\n",
    "plt.rcParams[\"font.serif\"] = \"Computer Modern Roman\"\n",
    "plt.rcParams[\"text.usetex\"] = True\n",
    "\n",
    "# Set a global font size.\n",
    "font_size = 11\n",
    "plt.rcParams[\"font.size\"] = font_size\n",
    "plt.rcParams[\"axes.labelsize\"] = font_size\n",
    "plt.rcParams[\"xtick.labelsize\"] = font_size\n",
    "plt.rcParams[\"ytick.labelsize\"] = font_size\n",
    "plt.rcParams[\"legend.fontsize\"] = 10\n",
    "\n",
    "# Others\n",
    "plot_titles = {\n",
    "    \"xy\": \"XY ansatz\",\n",
    "    \"heisenberg\": \"Heisenberg ansatz\",\n",
    "    \"ising\": \"Ising ansatz\"\n",
    "}\n",
    "\n",
    "plot_export_names = {\n",
    "    \"xy\": \"xy_ansatz_noise_free_tevo.eps\",\n",
    "    \"heisenberg\": \"heisenberg_ansatz_noise_free_tevo.eps\",\n",
    "    \"ising\": \"ising_ansatz_noise_free_tevo.eps\",\n",
    "    \"compiled\": \"compiled.eps\",\n",
    "    \"heisenberg_further1\": \"heisenberg_ansatz_further_ric3.eps\"\n",
    "}\n",
    "\n",
    "plot_colors = [\n",
    "    \"darkred\",\n",
    "    \"darkgreen\",\n",
    "    \"darkblue\",\n",
    "    \"darkmagenta\",\n",
    "    \"darkcyan\",\n",
    "    \"magenta\",\n",
    "    \"green\",\n",
    "    \"goldenrod\",\n",
    "    \"black\",\n",
    "    \"orange\",\n",
    "    \"purple\"\n",
    "    ]"
   ]
  },
  {
   "cell_type": "markdown",
   "id": "3ff52cc4",
   "metadata": {},
   "source": [
    "## (2) Loading the experimental data from JSON files\n",
    "\n",
    "The raw experimenal data are availabe at `data\\` folder"
   ]
  },
  {
   "cell_type": "code",
   "execution_count": 31,
   "id": "569af3c2",
   "metadata": {},
   "outputs": [],
   "source": [
    "base_path = \"data\"\n",
    "models = [\"xy\", \"ising\", \"heisenberg\"]\n",
    "\n",
    "ALL_RAW_DATA = {\n",
    "    model: {\n",
    "        \"vqe\": [],\n",
    "        \"redundant\": [],\n",
    "        \"zne\": [],\n",
    "        \"noiseoff\": []  # Added to match the original structure\n",
    "    } for model in models\n",
    "}\n",
    "\n",
    "for model in models:\n",
    "    model_path = os.path.join(base_path, model)\n",
    "    \n",
    "    try:\n",
    "        filenames = os.listdir(model_path)\n",
    "    except Exception as e:\n",
    "        print(f\"[ERROR] Failed to list files in {model_path}: {e}\")\n",
    "        continue\n",
    "\n",
    "    for filename in filenames:\n",
    "        if not filename.endswith(\".json\"):\n",
    "            continue\n",
    "\n",
    "        filepath = os.path.join(model_path, filename)\n",
    "        \n",
    "        try:\n",
    "            with open(filepath, \"r\") as f:\n",
    "                data = json.load(f)\n",
    "        except json.JSONDecodeError:\n",
    "            print(f\"[ERROR] Failed to parse JSON in file: {filepath}\")\n",
    "            continue\n",
    "        except Exception as e:\n",
    "            print(f\"[ERROR] Failed to load file {filepath}: {e}\")\n",
    "            continue\n",
    "\n",
    "        filename_lower = filename.lower()\n",
    "        if filename_lower.endswith(\"_vqe.json\"):\n",
    "            ALL_RAW_DATA[model][\"vqe\"].append(data)\n",
    "        elif filename_lower.endswith(\"_redundant.json\"):\n",
    "            ALL_RAW_DATA[model][\"redundant\"].append(data)\n",
    "        elif filename_lower.endswith(\"_zne.json\"):\n",
    "            ALL_RAW_DATA[model][\"zne\"].append(data)\n",
    "        elif filename_lower.endswith(\"_noise_off.json\"):\n",
    "            ALL_RAW_DATA[model][\"noiseoff\"].append(data)\n"
   ]
  },
  {
   "cell_type": "markdown",
   "id": "a9dac4d7",
   "metadata": {},
   "source": [
    "## (3) Extracting data\n",
    "\n",
    "<img src=\"../../figures/quantum_cicuit_standard_vs_redundant.jpg\" alt=\"std_vs_redun_circuit\" width=\"800\"/>\n",
    "\n",
    "\n",
    "Now lets extract some unformations.\n",
    "\n",
    "\n"
   ]
  },
  {
   "cell_type": "markdown",
   "id": "f6eba68c",
   "metadata": {},
   "source": [
    "### (A) The exact minimum eigen value\n",
    "\n",
    "Our target Hamiltonian is\n",
    "\n",
    "$$H_{Ising} = \\sum_{k=1}^{N-1} X_{k}X_{k+1} + \\sum_{k=1}^{N}Z_k$$\n",
    "\n",
    "where $N=7$.\n",
    "\n",
    "The exact minimum eigen value of the target observable (i.e. tranverse field Ising Hamiltonian for a 7-qubit system) is $-8.566772233505624$. This value is recored in `file_name_prefix_ZNE.json` files."
   ]
  },
  {
   "cell_type": "code",
   "execution_count": 32,
   "id": "85b33406",
   "metadata": {},
   "outputs": [
    {
     "name": "stdout",
     "output_type": "stream",
     "text": [
      "Exact solution: -8.566772233505624\n"
     ]
    }
   ],
   "source": [
    "exact_sol: float = -8.566772233505624\n",
    "print(f\"Exact solution: {exact_sol}\")"
   ]
  },
  {
   "cell_type": "markdown",
   "id": "f641b226",
   "metadata": {},
   "source": [
    "### (B) VQE estimations (noise is on)\n",
    "\n",
    "The noise level ($\\lambda$) is defined as \n",
    "$$\\lambda = n_R + 2 n_{CZ} + N n_T + n_Y$$\n",
    "\n",
    "where $nR, n_{CZ}, n_T, $ and $nY$ are proportinal to number of *noisy* rotation gates, two-qubit $CZ$ gate, the time-evolution gates, and Y gates. For the above circuit in the standard circuit (i.e. unboosted noise) noise level is $6$ while in the redundant circuit (i.e. boosted noise) noise level is $18$."
   ]
  },
  {
   "cell_type": "code",
   "execution_count": 33,
   "id": "db01a47c",
   "metadata": {},
   "outputs": [],
   "source": [
    "noise_levels: list=[6, 18]\n",
    "extrapolated_noise: int = 0"
   ]
  },
  {
   "cell_type": "markdown",
   "id": "8cf11243",
   "metadata": {},
   "source": [
    "### (C) Processing raw data"
   ]
  },
  {
   "cell_type": "code",
   "execution_count": 34,
   "id": "4947af90",
   "metadata": {},
   "outputs": [],
   "source": [
    "ALL_PROCESSED_DATA = {\n",
    "    model: {\n",
    "        \"vqe\": {},\n",
    "        \"redundant\": {},\n",
    "        \"zne\": {},\n",
    "        \"noiseoff\": {}  # Added to match the original structure\n",
    "    } for model in models\n",
    "}\n",
    "\n",
    "for model in models:\n",
    "    \n",
    "    ALL_PROCESSED_DATA[model][\"vqe\"] = {\n",
    "        \"mean\": np.mean(\n",
    "                    ALL_RAW_DATA[model][\"vqe\"][0][\"output\"][\"optimized_minimum_cost\"]\n",
    "                ),\n",
    "        \"std\": np.std(\n",
    "            ALL_RAW_DATA[model][\"vqe\"][0][\"output\"][\"optimized_minimum_cost\"]\n",
    "        )\n",
    "    }\n",
    "\n",
    "    ALL_PROCESSED_DATA[model][\"redundant\"] = {\n",
    "        \"noise_levels\": noise_levels,\n",
    "        \"mean\": [\n",
    "            np.mean(\n",
    "                [ALL_RAW_DATA[model][\"redundant\"][i][\"output\"][\"data_points\"][0][4] for i in range(len(ALL_RAW_DATA[model][\"redundant\"]))]\n",
    "\n",
    "            ),\n",
    "            np.mean(\n",
    "                [ALL_RAW_DATA[model][\"redundant\"][i][\"output\"][\"data_points\"][1][4] for i in range(len(ALL_RAW_DATA[model][\"redundant\"]))]\n",
    "\n",
    "            )\n",
    "        ],\n",
    "        \"std\": [\n",
    "            np.std(\n",
    "                [ALL_RAW_DATA[model][\"redundant\"][i][\"output\"][\"data_points\"][0][4] for i in range(len(ALL_RAW_DATA[model][\"redundant\"]))]\n",
    "\n",
    "            ),\n",
    "            np.std(\n",
    "                [ALL_RAW_DATA[model][\"redundant\"][i][\"output\"][\"data_points\"][1][4] for i in range(len(ALL_RAW_DATA[model][\"redundant\"]))]\n",
    "\n",
    "            )\n",
    "        ],\n",
    "    }\n",
    "\n",
    "    ALL_PROCESSED_DATA[model][\"zne\"] = {\n",
    "        \"mean\": np.mean(\n",
    "            [ALL_RAW_DATA[model][\"zne\"][i][\"output\"][\"zne_values\"][\"extrapolated_value\"]for i in range(len(ALL_RAW_DATA[model][\"zne\"]))]\n",
    "        ),\n",
    "        \"std\": np.std(\n",
    "            [ALL_RAW_DATA[model][\"zne\"][i][\"output\"][\"zne_values\"][\"extrapolated_value\"]for i in range(len(ALL_RAW_DATA[model][\"zne\"]))]\n",
    "        )\n",
    "    }\n",
    "\n",
    "    ALL_PROCESSED_DATA[model][\"noiseoff\"] = {\n",
    "        \"mean\": np.mean(\n",
    "            ALL_RAW_DATA[model][\"noiseoff\"][0][\"output\"][\"optimized_minimum_cost\"]\n",
    "        ),\n",
    "        \"std\": np.std(\n",
    "            ALL_RAW_DATA[model][\"noiseoff\"][0][\"output\"][\"optimized_minimum_cost\"]\n",
    "        )\n",
    "    }"
   ]
  },
  {
   "cell_type": "code",
   "execution_count": 35,
   "id": "8f9461e4",
   "metadata": {},
   "outputs": [
    {
     "data": {
      "text/plain": [
       "{'xy': {'vqe': {'mean': -7.588028443549487, 'std': 0.10673748123865216},\n",
       "  'redundant': {'noise_levels': [6, 18],\n",
       "   'mean': [-7.5880284435494385, -6.28454723195193],\n",
       "   'std': [0.10673748123865909, 0.1627423405639358]},\n",
       "  'zne': {'mean': -8.239769049348192, 'std': 0.08912986050559951},\n",
       "  'noiseoff': {'mean': -8.369342611101047, 'std': 0.15124979844206457}},\n",
       " 'ising': {'vqe': {'mean': -6.55965352212981, 'std': 0.21602941424704925},\n",
       "  'redundant': {'noise_levels': [6, 18],\n",
       "   'mean': [-6.559653522129835, -5.4942771928304195],\n",
       "   'std': [0.21602941424705321, 0.22127314516423383]},\n",
       "  'zne': {'mean': -7.092341686779543, 'std': 0.22490941122324423},\n",
       "  'noiseoff': {'mean': -7.2800222505553736, 'std': 0.24690963596051196}},\n",
       " 'heisenberg': {'vqe': {'mean': -5.97122563622368, 'std': 0.3274932846028536},\n",
       "  'redundant': {'noise_levels': [6, 18],\n",
       "   'mean': [-5.97122563622362, -4.7016950863487645],\n",
       "   'std': [0.3274932846028536, 0.3141739134474781]},\n",
       "  'zne': {'mean': -6.605990911161048, 'std': 0.3456748215824703},\n",
       "  'noiseoff': {'mean': -6.9205461139528435, 'std': 0.19766791757742266}}}"
      ]
     },
     "execution_count": 35,
     "metadata": {},
     "output_type": "execute_result"
    }
   ],
   "source": [
    "ALL_PROCESSED_DATA"
   ]
  },
  {
   "cell_type": "code",
   "execution_count": 36,
   "id": "31e5be3e",
   "metadata": {},
   "outputs": [
    {
     "name": "stdout",
     "output_type": "stream",
     "text": [
      "Model       Category                  Mean        Std\n",
      "----------  --------------------  --------  ---------\n",
      "xy          vqe                   -7.58803  0.106737\n",
      "xy          redundant (noise=6)   -7.58803  0.106737\n",
      "xy          redundant (noise=18)  -6.28455  0.162742\n",
      "xy          zne                   -8.23977  0.0891299\n",
      "xy          noiseoff              -8.36934  0.15125\n",
      "ising       vqe                   -6.55965  0.216029\n",
      "ising       redundant (noise=6)   -6.55965  0.216029\n",
      "ising       redundant (noise=18)  -5.49428  0.221273\n",
      "ising       zne                   -7.09234  0.224909\n",
      "ising       noiseoff              -7.28002  0.24691\n",
      "heisenberg  vqe                   -5.97123  0.327493\n",
      "heisenberg  redundant (noise=6)   -5.97123  0.327493\n",
      "heisenberg  redundant (noise=18)  -4.7017   0.314174\n",
      "heisenberg  zne                   -6.60599  0.345675\n",
      "heisenberg  noiseoff              -6.92055  0.197668\n"
     ]
    }
   ],
   "source": [
    "# Prepare rows for tabulation\n",
    "rows = []\n",
    "for model, methods in ALL_PROCESSED_DATA.items():\n",
    "    for method, stats in methods.items():\n",
    "        if method == \"redundant\":\n",
    "            for lvl, m, s in zip(stats['noise_levels'], stats['mean'], stats['std']):\n",
    "                rows.append([model, f\"{method} (noise={lvl})\", m, s])\n",
    "        elif stats:  # ignore empty \"noiseoff\"\n",
    "            rows.append([model, method, stats['mean'], stats['std']])\n",
    "        else:\n",
    "            rows.append([model, method, \"N/A\", \"N/A\"])\n",
    "\n",
    "# Print table\n",
    "headers = [\"Model\", \"Category\", \"Mean\", \"Std\"]\n",
    "print(tabulate(rows, headers=headers))"
   ]
  },
  {
   "cell_type": "markdown",
   "id": "062e64ac",
   "metadata": {},
   "source": [
    "## (4) Plot\n",
    "\n",
    "Finally we can plot the results.\n",
    "\n",
    "### (A) XY ansatz plot"
   ]
  },
  {
   "cell_type": "code",
   "execution_count": 37,
   "id": "29d47f99",
   "metadata": {},
   "outputs": [
    {
     "name": "stderr",
     "output_type": "stream",
     "text": [
      "The PostScript backend does not support transparency; partially transparent artists will be rendered opaque.\n"
     ]
    },
    {
     "data": {
      "image/png": "[encoded data removed]",
      "text/plain": [
       "<Figure size 400x600 with 1 Axes>"
      ]
     },
     "metadata": {},
     "output_type": "display_data"
    },
    {
     "name": "stdout",
     "output_type": "stream",
     "text": [
      "Figure saved as (in 'plots' folder): xy_ansatz_ric.eps\n"
     ]
    }
   ],
   "source": [
    "# Plot size\n",
    "plt.figure(figsize=(4, 6))\n",
    "# PLot name\n",
    "plot_name: str= \"xy_ansatz_ric.eps\"\n",
    "DATA= ALL_PROCESSED_DATA[\"xy\"]\n",
    "\n",
    "# Noisy estimation\n",
    "plt.errorbar(\n",
    "    x=noise_levels,\n",
    "    y=DATA[\"redundant\"][\"mean\"],\n",
    "    yerr=DATA[\"redundant\"][\"std\"], \n",
    "    fmt=\"o\", \n",
    "    ecolor=plot_colors[0],\n",
    "    capsize=5, \n",
    "    label=\"Noisy estimation\", \n",
    "    color=plot_colors[0]\n",
    ")\n",
    "# Extrapolated\n",
    "plt.errorbar(\n",
    "    x=extrapolated_noise, \n",
    "    y=DATA[\"zne\"][\"mean\"], \n",
    "    yerr=DATA[\"zne\"][\"std\"], \n",
    "    fmt=\"o\", \n",
    "    ecolor=plot_colors[2],\n",
    "    capsize=5, \n",
    "    label=\"Ric. ZNE value\", \n",
    "    color=plot_colors[2]\n",
    ")\n",
    "# Noise-free \n",
    "plt.errorbar(\n",
    "    x=0, \n",
    "    y=DATA[\"noiseoff\"][\"mean\"], \n",
    "    yerr=DATA[\"noiseoff\"][\"std\"], \n",
    "    fmt=\"o\", \n",
    "    ecolor=plot_colors[6],\n",
    "    capsize=5, \n",
    "    label=\"Noise-free estimation\", \n",
    "    color=plot_colors[6]\n",
    ")\n",
    "# Exact solution\n",
    "plt.axhline(y=exact_sol, color=plot_colors[5], linestyle=\"--\", label=f\"Exact Solution\")\n",
    "\n",
    "# Labels and title\n",
    "plt.xlabel(r\"Noise level ($\\alpha_k\\lambda$)\", fontsize=16)\n",
    "plt.ylabel(\"Expectation value\", fontsize=16)\n",
    "plt.title(plot_titles[\"xy\"])\n",
    "plt.grid(True, linestyle=\"--\", alpha=0.6)\n",
    "plt.legend(loc=\"upper left\", fontsize=14, frameon=False)\n",
    "# Save as eps\n",
    "plt.savefig(f\"plots/{plot_name}\", format=\"eps\")\n",
    "plt.show()\n",
    "print(\"Figure saved as (in 'plots' folder):\",  plot_name)"
   ]
  },
  {
   "cell_type": "markdown",
   "id": "c8be8b00",
   "metadata": {},
   "source": [
    "### (B) Ising ansatz plot"
   ]
  },
  {
   "cell_type": "code",
   "execution_count": 38,
   "id": "88c81073",
   "metadata": {},
   "outputs": [
    {
     "name": "stderr",
     "output_type": "stream",
     "text": [
      "The PostScript backend does not support transparency; partially transparent artists will be rendered opaque.\n"
     ]
    },
    {
     "data": {
      "image/png": "[encoded data removed]",
      "text/plain": [
       "<Figure size 400x600 with 1 Axes>"
      ]
     },
     "metadata": {},
     "output_type": "display_data"
    },
    {
     "name": "stdout",
     "output_type": "stream",
     "text": [
      "Figure saved as (in 'plots' folder): ising_ansatz_ric.eps\n"
     ]
    }
   ],
   "source": [
    "# Plot size\n",
    "plt.figure(figsize=(4, 6))\n",
    "# PLot name\n",
    "plot_name: str= \"ising_ansatz_ric.eps\"\n",
    "DATA= ALL_PROCESSED_DATA[\"ising\"]\n",
    "\n",
    "# Noisy estimation\n",
    "plt.errorbar(\n",
    "    x=noise_levels,\n",
    "    y=DATA[\"redundant\"][\"mean\"],\n",
    "    yerr=DATA[\"redundant\"][\"std\"], \n",
    "    fmt=\"o\", \n",
    "    ecolor=plot_colors[0],\n",
    "    capsize=5, \n",
    "    label=\"Noisy estimation\", \n",
    "    color=plot_colors[0]\n",
    ")\n",
    "# Extrapolated\n",
    "plt.errorbar(\n",
    "    x=extrapolated_noise, \n",
    "    y=DATA[\"zne\"][\"mean\"], \n",
    "    yerr=DATA[\"zne\"][\"std\"], \n",
    "    fmt=\"o\", \n",
    "    ecolor=plot_colors[2],\n",
    "    capsize=5, \n",
    "    label=\"Ric. ZNE value\", \n",
    "    color=plot_colors[2]\n",
    ")\n",
    "# Noise-free \n",
    "plt.errorbar(\n",
    "    x=0, \n",
    "    y=DATA[\"noiseoff\"][\"mean\"], \n",
    "    yerr=DATA[\"noiseoff\"][\"std\"], \n",
    "    fmt=\"o\", \n",
    "    ecolor=plot_colors[6],\n",
    "    capsize=5, \n",
    "    label=\"Noise-free estimation\", \n",
    "    color=plot_colors[6]\n",
    ")\n",
    "# Exact solution\n",
    "plt.axhline(y=exact_sol, color=plot_colors[5], linestyle=\"--\", label=f\"Exact Solution\")\n",
    "\n",
    "# Labels and title\n",
    "plt.xlabel(r\"Noise level ($\\alpha_k\\lambda$)\", fontsize=16)\n",
    "plt.ylabel(\"Expectation value\", fontsize=16)\n",
    "plt.title(plot_titles[\"ising\"])\n",
    "plt.grid(True, linestyle=\"--\", alpha=0.6)\n",
    "plt.legend(loc=\"upper left\", fontsize=14, frameon=False)\n",
    "# Save as eps\n",
    "plt.savefig(f\"plots/{plot_name}\", format=\"eps\")\n",
    "plt.show()\n",
    "print(\"Figure saved as (in 'plots' folder):\",  plot_name)"
   ]
  },
  {
   "cell_type": "markdown",
   "id": "62737f66",
   "metadata": {},
   "source": [
    "### (C) Heisenberg ansatz plot"
   ]
  },
  {
   "cell_type": "code",
   "execution_count": 39,
   "id": "67dee2dc",
   "metadata": {},
   "outputs": [
    {
     "name": "stderr",
     "output_type": "stream",
     "text": [
      "The PostScript backend does not support transparency; partially transparent artists will be rendered opaque.\n"
     ]
    },
    {
     "data": {
      "image/png": "[encoded data removed]",
      "text/plain": [
       "<Figure size 400x600 with 1 Axes>"
      ]
     },
     "metadata": {},
     "output_type": "display_data"
    },
    {
     "name": "stdout",
     "output_type": "stream",
     "text": [
      "Figure saved as (in 'plots' folder): hesisenberg_ansatz_ric.eps\n"
     ]
    }
   ],
   "source": [
    "# Plot size\n",
    "plt.figure(figsize=(4, 6))\n",
    "# PLot name\n",
    "plot_name: str= \"hesisenberg_ansatz_ric.eps\"\n",
    "DATA= ALL_PROCESSED_DATA[\"heisenberg\"]\n",
    "\n",
    "# Noisy estimation\n",
    "plt.errorbar(\n",
    "    x=noise_levels,\n",
    "    y=DATA[\"redundant\"][\"mean\"],\n",
    "    yerr=DATA[\"redundant\"][\"std\"], \n",
    "    fmt=\"o\", \n",
    "    ecolor=plot_colors[0],\n",
    "    capsize=5, \n",
    "    label=\"Noisy estimation\", \n",
    "    color=plot_colors[0]\n",
    ")\n",
    "# Extrapolated\n",
    "plt.errorbar(\n",
    "    x=extrapolated_noise, \n",
    "    y=DATA[\"zne\"][\"mean\"], \n",
    "    yerr=DATA[\"zne\"][\"std\"], \n",
    "    fmt=\"o\", \n",
    "    ecolor=plot_colors[2],\n",
    "    capsize=5, \n",
    "    label=\"Ric. ZNE value\", \n",
    "    color=plot_colors[2]\n",
    ")\n",
    "# Noise-free \n",
    "plt.errorbar(\n",
    "    x=0, \n",
    "    y=DATA[\"noiseoff\"][\"mean\"], \n",
    "    yerr=DATA[\"noiseoff\"][\"std\"], \n",
    "    fmt=\"o\", \n",
    "    ecolor=plot_colors[6],\n",
    "    capsize=5, \n",
    "    label=\"Noise-free estimation\", \n",
    "    color=plot_colors[6]\n",
    ")\n",
    "# Exact solution\n",
    "plt.axhline(y=exact_sol, color=plot_colors[5], linestyle=\"--\", label=f\"Exact Solution\")\n",
    "\n",
    "# Labels and title\n",
    "plt.xlabel(r\"Noise level ($\\alpha_k\\lambda$)\", fontsize=16)\n",
    "plt.ylabel(\"Expectation value\", fontsize=16)\n",
    "plt.title(plot_titles[\"heisenberg\"])\n",
    "plt.grid(True, linestyle=\"--\", alpha=0.6)\n",
    "plt.legend(loc=\"upper left\", fontsize=14, frameon=False)\n",
    "# Save as eps\n",
    "plt.savefig(f\"plots/{plot_name}\", format=\"eps\")\n",
    "plt.show()\n",
    "print(\"Figure saved as (in 'plots' folder):\",  plot_name)"
   ]
  },
  {
   "cell_type": "markdown",
   "id": "df6116a6",
   "metadata": {},
   "source": [
    "## (5) Compiled plots"
   ]
  },
  {
   "cell_type": "code",
   "execution_count": 40,
   "id": "183a5e38",
   "metadata": {},
   "outputs": [
    {
     "name": "stderr",
     "output_type": "stream",
     "text": [
      "The PostScript backend does not support transparency; partially transparent artists will be rendered opaque.\n"
     ]
    },
    {
     "data": {
      "image/png": "[encoded data removed]",
      "text/plain": [
       "<Figure size 900x600 with 3 Axes>"
      ]
     },
     "metadata": {},
     "output_type": "display_data"
    }
   ],
   "source": [
    "plot_name: str = \"compiled_ansatz_noise_free_tevo.eps\"\n",
    "# Create subplots\n",
    "fig, axs = plt.subplots(1, 3, figsize=(9, 6), sharey=True)\n",
    "\n",
    "for i, model in enumerate([\"xy\", \"ising\", \"heisenberg\"]):\n",
    "    ax = axs[i]\n",
    "    DATA = ALL_PROCESSED_DATA[model]\n",
    "\n",
    "    # Noisy Estimation\n",
    "    ax.errorbar(\n",
    "        x=noise_levels,\n",
    "        y=DATA[\"redundant\"][\"mean\"],\n",
    "        yerr=DATA[\"redundant\"][\"std\"],\n",
    "        fmt=\"o\",\n",
    "        ecolor=plot_colors[0],\n",
    "        capsize=4,\n",
    "        label=\"Noisy estimation\",\n",
    "        color=plot_colors[0],\n",
    "        markersize=5\n",
    "    )\n",
    "\n",
    "    # ZNE Extrapolated\n",
    "    ax.errorbar(\n",
    "        x=extrapolated_noise,\n",
    "        y=DATA[\"zne\"][\"mean\"],\n",
    "        yerr=DATA[\"zne\"][\"std\"],\n",
    "        fmt=\"D\",\n",
    "        ecolor=plot_colors[2],\n",
    "        capsize=4,\n",
    "        label=\"ZNE value\",\n",
    "        color=plot_colors[2],\n",
    "        markersize=5\n",
    "    )\n",
    "\n",
    "    # Noise-free Estimation\n",
    "    ax.errorbar(\n",
    "        x=0,\n",
    "        y=DATA[\"noiseoff\"][\"mean\"],\n",
    "        yerr=DATA[\"noiseoff\"][\"std\"],\n",
    "        fmt=\"s\",\n",
    "        ecolor=plot_colors[6],\n",
    "        capsize=4,\n",
    "        label=\"Noise-free\",\n",
    "        color=plot_colors[6],\n",
    "        markersize=5\n",
    "    )\n",
    "\n",
    "    # Exact Value\n",
    "    ax.axhline(\n",
    "        y=exact_sol,\n",
    "        color=plot_colors[5],\n",
    "        linestyle=\"--\",\n",
    "        linewidth=1.5,\n",
    "        label=\"Exact value\"\n",
    "    )\n",
    "\n",
    "    # Titles and Labels\n",
    "    ax.set_title(plot_titles[model], fontsize=14)\n",
    "    ax.set_xlabel(r\"Noise level ($\\alpha_k\\lambda$)\")\n",
    "    ax.grid(True, linestyle=\"--\", linewidth=0.6, alpha=0.7)\n",
    "\n",
    "    if i == 0:\n",
    "        ax.set_ylabel(\"Expectation value\")\n",
    "\n",
    "    # ✅ Legend in top right\n",
    "    ax.legend(loc=\"upper right\", frameon=False)\n",
    "\n",
    "# Layout tweaks\n",
    "plt.tight_layout(w_pad=1.2, h_pad=0.3)\n",
    "plt.subplots_adjust(top=0.88)\n",
    "\n",
    "# Optional: Save\n",
    "plt.savefig(f\"plots/{plot_name}\", format=\"eps\")\n",
    "\n",
    "plt.show()\n"
   ]
  },
  {
   "cell_type": "markdown",
   "id": "1c266c96",
   "metadata": {},
   "source": [
    "---"
   ]
  },
  {
   "cell_type": "markdown",
   "id": "06ef84b9",
   "metadata": {},
   "source": [
    "## (6) Further studies on Heisenberg ansatz"
   ]
  },
  {
   "cell_type": "markdown",
   "id": "bfa4ebc5",
   "metadata": {},
   "source": [
    "### (A) Load JSON data"
   ]
  },
  {
   "cell_type": "code",
   "execution_count": 41,
   "id": "945c4786",
   "metadata": {},
   "outputs": [
    {
     "name": "stdout",
     "output_type": "stream",
     "text": [
      "[ERROR] Failed to list files in data/heisenberg-ricmul: [Errno 2] No such file or directory: 'data/heisenberg-ricmul'\n"
     ]
    }
   ],
   "source": [
    "# New model folders\n",
    "heisenberg_further = [\"heisenberg-ric3\", \"heisenberg-ricmul\"]\n",
    "base_path = \"data\"\n",
    "\n",
    "# Initialize structure for new models only if not already in ALL_RAW_DATA\n",
    "for model in heisenberg_further:\n",
    "    ALL_RAW_DATA.setdefault(model, {\n",
    "        \"vqe\": [],\n",
    "        \"redundant\": [],\n",
    "        \"zne\": [],\n",
    "        \"noiseoff\": []\n",
    "    })\n",
    "\n",
    "# Load and append data\n",
    "for model in heisenberg_further:\n",
    "    model_path = os.path.join(base_path, model)\n",
    "\n",
    "    try:\n",
    "        filenames = os.listdir(model_path)\n",
    "    except Exception as e:\n",
    "        print(f\"[ERROR] Failed to list files in {model_path}: {e}\")\n",
    "        continue\n",
    "\n",
    "    for filename in filenames:\n",
    "        if not filename.endswith(\".json\"):\n",
    "            continue\n",
    "\n",
    "        filepath = os.path.join(model_path, filename)\n",
    "\n",
    "        try:\n",
    "            with open(filepath, \"r\") as f:\n",
    "                data = json.load(f)\n",
    "        except json.JSONDecodeError:\n",
    "            print(f\"[ERROR] Failed to parse JSON in file: {filepath}\")\n",
    "            continue\n",
    "        except Exception as e:\n",
    "            print(f\"[ERROR] Failed to load file {filepath}: {e}\")\n",
    "            continue\n",
    "\n",
    "        filename_upper = filename.upper()\n",
    "        if \"ZNE\" in filename_upper:\n",
    "            ALL_RAW_DATA[model][\"zne\"].append(data)\n",
    "        elif \"REDUNDANT\" in filename_upper:\n",
    "            ALL_RAW_DATA[model][\"redundant\"].append(data)\n",
    "        elif filename_upper.endswith(\"_VQE.JSON\"):\n",
    "            ALL_RAW_DATA[model][\"vqe\"].append(data)\n",
    "        elif filename_upper.endswith(\"_NOISE_OFF.JSON\"):\n",
    "            ALL_RAW_DATA[model][\"noiseoff\"].append(data)\n"
   ]
  },
  {
   "cell_type": "markdown",
   "id": "672676dc",
   "metadata": {},
   "source": [
    "### (B) Processing raw data"
   ]
  },
  {
   "cell_type": "code",
   "execution_count": null,
   "id": "52bb7ba2",
   "metadata": {},
   "outputs": [],
   "source": [
    "noise_levels: int=[6, 18, 26]\n",
    "for model in [\"heisenberg-ric3\", \"heisenberg-ricmul\"]:\n",
    "    ALL_PROCESSED_DATA[model] = {\n",
    "        \"vqe\": {\n",
    "            \"mean\": np.mean(ALL_RAW_DATA[model][\"vqe\"][0][\"output\"][\"optimized_minimum_cost\"]),\n",
    "            \"std\": np.std(ALL_RAW_DATA[model][\"vqe\"][0][\"output\"][\"optimized_minimum_cost\"])\n",
    "        },\n",
    "        \"redundant\": {\n",
    "            \"noise_levels\": noise_levels,\n",
    "            \"mean\": [\n",
    "                np.mean([\n",
    "                    ALL_RAW_DATA[model][\"redundant\"][i][\"output\"][\"data_points\"][0][4]\n",
    "                    for i in range(len(ALL_RAW_DATA[model][\"redundant\"]))\n",
    "                ]),\n",
    "                np.mean([\n",
    "                    ALL_RAW_DATA[model][\"redundant\"][i][\"output\"][\"data_points\"][1][4]\n",
    "                    for i in range(len(ALL_RAW_DATA[model][\"redundant\"]))\n",
    "                ]),\n",
    "                np.mean([\n",
    "                    ALL_RAW_DATA[model][\"redundant\"][i][\"output\"][\"data_points\"][2][4]\n",
    "                    for i in range(len(ALL_RAW_DATA[model][\"redundant\"]))\n",
    "                ])\n",
    "            ],\n",
    "            \"std\": [\n",
    "                np.std([\n",
    "                    ALL_RAW_DATA[model][\"redundant\"][i][\"output\"][\"data_points\"][0][4]\n",
    "                    for i in range(len(ALL_RAW_DATA[model][\"redundant\"]))\n",
    "                ]),\n",
    "                np.std([\n",
    "                    ALL_RAW_DATA[model][\"redundant\"][i][\"output\"][\"data_points\"][1][4]\n",
    "                    for i in range(len(ALL_RAW_DATA[model][\"redundant\"]))\n",
    "                ]),\n",
    "                np.std([\n",
    "                    ALL_RAW_DATA[model][\"redundant\"][i][\"output\"][\"data_points\"][2][4]\n",
    "                    for i in range(len(ALL_RAW_DATA[model][\"redundant\"]))\n",
    "                ])\n",
    "            ]\n",
    "        },\n",
    "        \"zne\": {\n",
    "            \"mean\": np.mean([\n",
    "                ALL_RAW_DATA[model][\"zne\"][i][\"output\"][\"zne_values\"][\"extrapolated_value\"]\n",
    "                for i in range(len(ALL_RAW_DATA[model][\"zne\"]))\n",
    "            ]),\n",
    "            \"std\": np.std([\n",
    "                ALL_RAW_DATA[model][\"zne\"][i][\"output\"][\"zne_values\"][\"extrapolated_value\"]\n",
    "                for i in range(len(ALL_RAW_DATA[model][\"zne\"]))\n",
    "            ])\n",
    "        },\n",
    "        \"noiseoff\": {\n",
    "            \"mean\": np.mean(ALL_RAW_DATA[model][\"noiseoff\"][0][\"output\"][\"optimized_minimum_cost\"]),\n",
    "            \"std\": np.std(ALL_RAW_DATA[model][\"noiseoff\"][0][\"output\"][\"optimized_minimum_cost\"])\n",
    "        }\n",
    "    }\n"
   ]
  },
  {
   "cell_type": "code",
   "execution_count": 43,
   "id": "75effc24",
   "metadata": {},
   "outputs": [
    {
     "name": "stdout",
     "output_type": "stream",
     "text": [
      "Model            Category              Mean                 Std\n",
      "---------------  --------------------  -------------------  -------------------\n",
      "xy               vqe                   -7.588028443549487   0.10673748123865216\n",
      "xy               redundant (noise=6)   -7.5880284435494385  0.10673748123865909\n",
      "xy               redundant (noise=18)  -6.28454723195193    0.1627423405639358\n",
      "xy               zne                   -8.239769049348192   0.08912986050559951\n",
      "xy               noiseoff              -8.369342611101047   0.15124979844206457\n",
      "\n",
      "ising            vqe                   -6.55965352212981    0.21602941424704925\n",
      "ising            redundant (noise=6)   -6.559653522129835   0.21602941424705321\n",
      "ising            redundant (noise=18)  -5.4942771928304195  0.22127314516423383\n",
      "ising            zne                   -7.092341686779543   0.22490941122324423\n",
      "ising            noiseoff              -7.2800222505553736  0.24690963596051196\n",
      "\n",
      "heisenberg       vqe                   -5.97122563622368    0.3274932846028536\n",
      "heisenberg       redundant (noise=6)   -5.97122563622362    0.3274932846028536\n",
      "heisenberg       redundant (noise=18)  -4.7016950863487645  0.3141739134474781\n",
      "heisenberg       zne                   -6.605990911161048   0.3456748215824703\n",
      "heisenberg       noiseoff              -6.9205461139528435  0.19766791757742266\n",
      "\n",
      "heisenberg-ric3  vqe                   -5.97122563622368    0.3274932846028536\n",
      "heisenberg-ric3  redundant (noise=6)   -5.97122563622362    0.3274932846028537\n",
      "heisenberg-ric3  redundant (noise=18)  -4.701695086348764   0.31417391344747814\n",
      "heisenberg-ric3  redundant (noise=26)  -4.014099834939171   0.31514195679643936\n",
      "heisenberg-ric3  zne                   -6.713152863903258   0.34822114941292537\n",
      "heisenberg-ric3  noiseoff              -6.9205461139528435  0.19766791757742266\n",
      "\n"
     ]
    }
   ],
   "source": [
    "# Prepare rows for tabulation\n",
    "rows = []\n",
    "for model, methods in ALL_PROCESSED_DATA.items():\n",
    "    for method, stats in methods.items():\n",
    "        if method == \"redundant\":\n",
    "            for lvl, m, s in zip(stats['noise_levels'], stats['mean'], stats['std']):\n",
    "                rows.append([model, f\"{method} (noise={lvl})\", m, s])\n",
    "        elif stats:  # ignore empty \"noiseoff\"\n",
    "            rows.append([model, method, stats['mean'], stats['std']])\n",
    "        else:\n",
    "            rows.append([model, method, \"N/A\", \"N/A\"])\n",
    "    \n",
    "    # Add divider (blank row)\n",
    "    rows.append([\"\", \"\", \"\", \"\"])  # Or use [\"-\"*10, \"-\"*10, \"-\"*10, \"-\"*10] for lines\n",
    "\n",
    "# Print table\n",
    "headers = [\"Model\", \"Category\", \"Mean\", \"Std\"]\n",
    "print(tabulate(rows, headers=headers))\n"
   ]
  },
  {
   "cell_type": "markdown",
   "id": "91585b08",
   "metadata": {},
   "source": [
    "### (C) Plot"
   ]
  },
  {
   "cell_type": "code",
   "execution_count": 44,
   "id": "836b2e6a",
   "metadata": {},
   "outputs": [
    {
     "name": "stderr",
     "output_type": "stream",
     "text": [
      "The PostScript backend does not support transparency; partially transparent artists will be rendered opaque.\n"
     ]
    },
    {
     "data": {
      "image/png": "[encoded data removed]",
      "text/plain": [
       "<Figure size 400x600 with 1 Axes>"
      ]
     },
     "metadata": {},
     "output_type": "display_data"
    },
    {
     "name": "stdout",
     "output_type": "stream",
     "text": [
      "Figure saved as (in 'plots' folder): heisenberg_ansatz_ric3.eps\n"
     ]
    }
   ],
   "source": [
    "# Plot size\n",
    "plt.figure(figsize=(4, 6))\n",
    "\n",
    "# Plot name (fixed typo)\n",
    "plot_name = \"heisenberg_ansatz_ric3.eps\"\n",
    "\n",
    "# Data for heisenberg-ric3\n",
    "DATA = ALL_PROCESSED_DATA[\"heisenberg-ric3\"]\n",
    "\n",
    "# Noisy estimation (redundant)\n",
    "plt.errorbar(\n",
    "    x=noise_levels,\n",
    "    y=DATA[\"redundant\"][\"mean\"],\n",
    "    yerr=DATA[\"redundant\"][\"std\"],\n",
    "    fmt=\"o\",\n",
    "    ecolor=plot_colors[0],\n",
    "    capsize=5,\n",
    "    label=\"Noisy estimation\",\n",
    "    color=plot_colors[0]\n",
    ")\n",
    "\n",
    "# Extrapolated (ZNE)\n",
    "plt.errorbar(\n",
    "    x=extrapolated_noise,\n",
    "    y=DATA[\"zne\"][\"mean\"],\n",
    "    yerr=DATA[\"zne\"][\"std\"],\n",
    "    fmt=\"o\",\n",
    "    ecolor=plot_colors[2],\n",
    "    capsize=5,\n",
    "    label=\"Ric. 3-point ZNE value\",\n",
    "    color=plot_colors[2]\n",
    ")\n",
    "\n",
    "# Noise-free estimation\n",
    "plt.errorbar(\n",
    "    x=0,\n",
    "    y=DATA[\"noiseoff\"][\"mean\"],\n",
    "    yerr=DATA[\"noiseoff\"][\"std\"],\n",
    "    fmt=\"*\",\n",
    "    ecolor=plot_colors[6],\n",
    "    capsize=5,\n",
    "    label=\"Noise-free estimation\",\n",
    "    color=plot_colors[6]\n",
    ")\n",
    "\n",
    "# Exact solution line\n",
    "plt.axhline(\n",
    "    y=exact_sol,\n",
    "    color=plot_colors[5],\n",
    "    linestyle=\"--\",\n",
    "    label=\"Exact Solution\"\n",
    ")\n",
    "\n",
    "# Labels and title (updated to heisenberg-ric3)\n",
    "plt.xlabel(r\"Noise level ($\\alpha_k\\lambda$)\", fontsize=16)\n",
    "plt.ylabel(\"Expectation value\", fontsize=16)\n",
    "plt.title(plot_titles[\"heisenberg\"])\n",
    "plt.grid(True, linestyle=\"--\", alpha=0.6)\n",
    "plt.legend(loc=\"upper left\", fontsize=14, frameon=False)\n",
    "\n",
    "# Save as EPS\n",
    "plt.savefig(f\"plots/{plot_name}\", format=\"eps\")\n",
    "plt.show()\n",
    "\n",
    "print(\"Figure saved as (in 'plots' folder):\", plot_name)\n"
   ]
  },
  {
   "cell_type": "code",
   "execution_count": 45,
   "id": "48dfcb06",
   "metadata": {},
   "outputs": [
    {
     "ename": "KeyError",
     "evalue": "'heisenberg-ricmul'",
     "output_type": "error",
     "traceback": [
      "\u001b[0;31m---------------------------------------------------------------------------\u001b[0m",
      "\u001b[0;31mKeyError\u001b[0m                                  Traceback (most recent call last)",
      "Cell \u001b[0;32mIn[45], line 8\u001b[0m\n\u001b[1;32m      5\u001b[0m plot_name \u001b[38;5;241m=\u001b[39m \u001b[38;5;124m\"\u001b[39m\u001b[38;5;124mheisenberg_ansatz_ricmul.eps\u001b[39m\u001b[38;5;124m\"\u001b[39m\n\u001b[1;32m      7\u001b[0m \u001b[38;5;66;03m# Data for heisenberg-ric3\u001b[39;00m\n\u001b[0;32m----> 8\u001b[0m DATA \u001b[38;5;241m=\u001b[39m \u001b[43mALL_PROCESSED_DATA\u001b[49m\u001b[43m[\u001b[49m\u001b[38;5;124;43m\"\u001b[39;49m\u001b[38;5;124;43mheisenberg-ricmul\u001b[39;49m\u001b[38;5;124;43m\"\u001b[39;49m\u001b[43m]\u001b[49m\n\u001b[1;32m     10\u001b[0m \u001b[38;5;66;03m# Noisy estimation (redundant)\u001b[39;00m\n\u001b[1;32m     11\u001b[0m plt\u001b[38;5;241m.\u001b[39merrorbar(\n\u001b[1;32m     12\u001b[0m     x\u001b[38;5;241m=\u001b[39mnoise_levels,\n\u001b[1;32m     13\u001b[0m     y\u001b[38;5;241m=\u001b[39mDATA[\u001b[38;5;124m\"\u001b[39m\u001b[38;5;124mredundant\u001b[39m\u001b[38;5;124m\"\u001b[39m][\u001b[38;5;124m\"\u001b[39m\u001b[38;5;124mmean\u001b[39m\u001b[38;5;124m\"\u001b[39m],\n\u001b[0;32m   (...)\u001b[0m\n\u001b[1;32m     19\u001b[0m     color\u001b[38;5;241m=\u001b[39mplot_colors[\u001b[38;5;241m0\u001b[39m]\n\u001b[1;32m     20\u001b[0m )\n",
      "\u001b[0;31mKeyError\u001b[0m: 'heisenberg-ricmul'"
     ]
    },
    {
     "data": {
      "text/plain": [
       "<Figure size 400x600 with 0 Axes>"
      ]
     },
     "metadata": {},
     "output_type": "display_data"
    }
   ],
   "source": [
    "# Plot size\n",
    "plt.figure(figsize=(4, 6))\n",
    "\n",
    "# Plot name (fixed typo)\n",
    "plot_name = \"heisenberg_ansatz_ricmul.eps\"\n",
    "\n",
    "# Data for heisenberg-ric3\n",
    "DATA = ALL_PROCESSED_DATA[\"heisenberg-ricmul\"]\n",
    "\n",
    "# Noisy estimation (redundant)\n",
    "plt.errorbar(\n",
    "    x=noise_levels,\n",
    "    y=DATA[\"redundant\"][\"mean\"],\n",
    "    yerr=DATA[\"redundant\"][\"std\"],\n",
    "    fmt=\"o\",\n",
    "    ecolor=plot_colors[0],\n",
    "    capsize=5,\n",
    "    label=\"Noisy estimation\",\n",
    "    color=plot_colors[0]\n",
    ")\n",
    "\n",
    "# Extrapolated (ZNE)\n",
    "plt.errorbar(\n",
    "    x=extrapolated_noise,\n",
    "    y=DATA[\"zne\"][\"mean\"],\n",
    "    yerr=DATA[\"zne\"][\"std\"],\n",
    "    fmt=\"o\",\n",
    "    ecolor=plot_colors[2],\n",
    "    capsize=5,\n",
    "    label=\"Ricmul. ZNE value\",\n",
    "    color=plot_colors[2]\n",
    ")\n",
    "\n",
    "# Noise-free estimation\n",
    "plt.errorbar(\n",
    "    x=0,\n",
    "    y=DATA[\"noiseoff\"][\"mean\"],\n",
    "    yerr=DATA[\"noiseoff\"][\"std\"],\n",
    "    fmt=\"*\",\n",
    "    ecolor=plot_colors[6],\n",
    "    capsize=5,\n",
    "    label=\"Noise-free estimation\",\n",
    "    color=plot_colors[6]\n",
    ")\n",
    "\n",
    "# Exact solution line\n",
    "plt.axhline(\n",
    "    y=exact_sol,\n",
    "    color=plot_colors[5],\n",
    "    linestyle=\"--\",\n",
    "    label=\"Exact Solution\"\n",
    ")\n",
    "\n",
    "# Labels and title (updated to heisenberg-ric3)\n",
    "plt.xlabel(r\"Noise level ($\\alpha_k\\lambda$)\", fontsize=16)\n",
    "plt.ylabel(\"Expectation value\", fontsize=16)\n",
    "plt.title(plot_titles[\"heisenberg\"])\n",
    "plt.grid(True, linestyle=\"--\", alpha=0.6)\n",
    "plt.legend(loc=\"upper left\", fontsize=14, frameon=False)\n",
    "\n",
    "# Save as EPS\n",
    "plt.savefig(f\"plots/{plot_name}\", format=\"eps\")\n",
    "plt.show()\n",
    "\n",
    "print(\"Figure saved as (in 'plots' folder):\", plot_name)\n"
   ]
  },
  {
   "cell_type": "markdown",
   "id": "91a2f25b",
   "metadata": {},
   "source": [
    "## (7) Summary"
   ]
  },
  {
   "cell_type": "code",
   "execution_count": null,
   "id": "cfefd1b7",
   "metadata": {},
   "outputs": [],
   "source": [
    "# Prepare rows as before\n",
    "rows = []\n",
    "for model, methods in ALL_PROCESSED_DATA.items():\n",
    "    for method, stats in methods.items():\n",
    "        if method == \"redundant\":\n",
    "            for lvl, m, s in zip(stats['noise_levels'], stats['mean'], stats['std']):\n",
    "                rows.append([model, f\"{method} (noise={lvl})\", m, s])\n",
    "        elif stats:\n",
    "            rows.append([model, method, stats['mean'], stats['std']])\n",
    "        else:\n",
    "            rows.append([model, method, \"N/A\", \"N/A\"])\n",
    "    rows.append([\"\", \"\", \"\", \"\"])\n",
    "\n",
    "df = pd.DataFrame(rows, columns=[\"Model\", \"Category\", \"Mean\", \"Std\"])\n",
    "\n",
    "unique_models = set(m.lower().strip() for m in df[\"Model\"] if m.strip() != \"\")\n",
    "colors = cm.Pastel1(np.linspace(0, 1, len(unique_models)))\n",
    "model_colors = {model.lower(): colors[i] for i, model in enumerate(sorted(unique_models))}\n",
    "\n",
    "\n",
    "\n",
    "fig, ax = plt.subplots()\n",
    "ax.axis('off')\n",
    "\n",
    "table = ax.table(\n",
    "    cellText=df.values,\n",
    "    colLabels=df.columns,\n",
    "    cellLoc='center',\n",
    "    loc='center'\n",
    ")\n",
    "\n",
    "table.auto_set_font_size(False)\n",
    "table.set_fontsize(9)\n",
    "table.auto_set_column_width(col=list(range(len(df.columns))))\n",
    "\n",
    "for i, model_name in enumerate(df[\"Model\"]):\n",
    "    key = model_name.strip().lower()\n",
    "    if key == \"\":\n",
    "        for j in range(len(df.columns)):\n",
    "            table[(i + 1, j)].set_facecolor(\"#f0f0f0\")\n",
    "        continue\n",
    "    if key in model_colors:\n",
    "        for j in range(len(df.columns)):\n",
    "            table[(i + 1, j)].set_facecolor(model_colors[key])\n",
    "\n",
    "# Draw the canvas and get the bounding box of the table\n",
    "fig.canvas.draw()\n",
    "bbox = table.get_window_extent(fig.canvas.get_renderer())\n",
    "\n",
    "# Convert bbox from display units to inches\n",
    "bbox_inches = bbox.transformed(fig.dpi_scale_trans.inverted())\n",
    "\n",
    "# Resize the figure to tightly fit the table\n",
    "fig.set_size_inches(bbox_inches.width, bbox_inches.height)\n",
    "fig.suptitle(\"Anstze with noise-free time-evolution\", fontsize=14, fontweight='bold', y=1.3)\n",
    "# Remove margins by using add_axes with full figure and redraw\n",
    "ax.set_position([0, 0, 1, 1])\n",
    "\n",
    "plt.show()"
   ]
  }
 ],
 "metadata": {
  "kernelspec": {
   "display_name": ".env",
   "language": "python",
   "name": "python3"
  },
  "language_info": {
   "codemirror_mode": {
    "name": "ipython",
    "version": 3
   },
   "file_extension": ".py",
   "mimetype": "text/x-python",
   "name": "python",
   "nbconvert_exporter": "python",
   "pygments_lexer": "ipython3",
   "version": "3.11.0"
  }
 },
 "nbformat": 4,
 "nbformat_minor": 5
}
