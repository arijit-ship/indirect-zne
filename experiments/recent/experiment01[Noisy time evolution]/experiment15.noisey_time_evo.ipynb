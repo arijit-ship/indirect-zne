{
 "cells": [
  {
   "cell_type": "markdown",
   "id": "16efb930",
   "metadata": {},
   "source": [
    "# ZNE with indirect-control VQE\n",
    "---\n",
    "\n",
    "This experiment is:\n",
    "\n",
    "- Qubit: 7, layer: 30\n",
    "- System has noise-free time evolution.\n",
    "- Target observable: Transverse field Ising Hamiltonian.\n",
    "- Ansatz time-evolution: Noise-free time-evolution with XY, Ising, and Heisenberg Hamiltonians.\n",
    "- Constraint: True"
   ]
  },
  {
   "cell_type": "markdown",
   "id": "10e5a03c",
   "metadata": {},
   "source": [
    "## (1) Import and setup"
   ]
  },
  {
   "cell_type": "code",
   "execution_count": 1,
   "id": "e3fadbab",
   "metadata": {},
   "outputs": [],
   "source": [
    "import os\n",
    "import json\n",
    "import numpy as np\n",
    "import matplotlib.pyplot as plt\n",
    "import matplotlib.cm as cm\n",
    "import pandas as pd\n",
    "from tabulate import tabulate"
   ]
  },
  {
   "cell_type": "code",
   "execution_count": 2,
   "id": "a0f93b74",
   "metadata": {},
   "outputs": [],
   "source": [
    "# Set the default font to be LaTeX compliant.\n",
    "plt.rcParams[\"font.family\"] = \"serif\"\n",
    "plt.rcParams[\"font.serif\"] = \"Computer Modern Roman\"\n",
    "plt.rcParams[\"text.usetex\"] = True\n",
    "\n",
    "# Set a global font size.\n",
    "font_size = 11\n",
    "plt.rcParams[\"font.size\"] = font_size\n",
    "plt.rcParams[\"axes.labelsize\"] = font_size\n",
    "plt.rcParams[\"xtick.labelsize\"] = font_size\n",
    "plt.rcParams[\"ytick.labelsize\"] = font_size\n",
    "plt.rcParams[\"legend.fontsize\"] = 10\n",
    "\n",
    "# Others\n",
    "plot_titles = {\n",
    "    \"xy\": \"XY ansatz\",\n",
    "    \"heisenberg\": \"Heisenberg ansatz\",\n",
    "    \"ising\": \"Ising ansatz\"\n",
    "}\n",
    "\n",
    "plot_export_names = {\n",
    "    \"xy\": \"xy_ansatz_noise_free_tevo.eps\",\n",
    "    \"heisenberg\": \"heisenberg_ansatz_noise_free_tevo.eps\",\n",
    "    \"ising\": \"ising_ansatz_noise_free_tevo.eps\",\n",
    "    \"compiled\": \"compiled.eps\",\n",
    "    \"heisenberg_further1\": \"heisenberg_ansatz_further_ric3.eps\"\n",
    "}\n",
    "\n",
    "plot_colors = [\n",
    "    \"darkred\",\n",
    "    \"darkgreen\",\n",
    "    \"darkblue\",\n",
    "    \"darkmagenta\",\n",
    "    \"darkcyan\",\n",
    "    \"magenta\",\n",
    "    \"green\",\n",
    "    \"goldenrod\",\n",
    "    \"black\",\n",
    "    \"orange\",\n",
    "    \"purple\"\n",
    "    ]"
   ]
  },
  {
   "cell_type": "markdown",
   "id": "3ff52cc4",
   "metadata": {},
   "source": [
    "## (2) Loading the experimental data from JSON files\n",
    "\n",
    "The raw experimenal data are availabe at `data\\` folder"
   ]
  },
  {
   "cell_type": "code",
   "execution_count": 3,
   "id": "569af3c2",
   "metadata": {},
   "outputs": [],
   "source": [
    "base_path = \"data\"\n",
    "models = [\"xy\"]\n",
    "\n",
    "ALL_RAW_DATA = {\n",
    "    model: {\n",
    "        \"vqe\": [],\n",
    "        \"redundant\": [],\n",
    "        \"zne\": [],\n",
    "        \"noiseoff\": []  # Added to match the original structure\n",
    "    } for model in models\n",
    "}\n",
    "\n",
    "for model in models:\n",
    "    model_path = os.path.join(base_path, model)\n",
    "    \n",
    "    try:\n",
    "        filenames = os.listdir(model_path)\n",
    "    except Exception as e:\n",
    "        print(f\"[ERROR] Failed to list files in {model_path}: {e}\")\n",
    "        continue\n",
    "\n",
    "    for filename in filenames:\n",
    "        if not filename.endswith(\".json\"):\n",
    "            continue\n",
    "\n",
    "        filepath = os.path.join(model_path, filename)\n",
    "        \n",
    "        try:\n",
    "            with open(filepath, \"r\") as f:\n",
    "                data = json.load(f)\n",
    "        except json.JSONDecodeError:\n",
    "            print(f\"[ERROR] Failed to parse JSON in file: {filepath}\")\n",
    "            continue\n",
    "        except Exception as e:\n",
    "            print(f\"[ERROR] Failed to load file {filepath}: {e}\")\n",
    "            continue\n",
    "\n",
    "        filename_lower = filename.lower()\n",
    "        if filename_lower.endswith(\"_vqe.json\"):\n",
    "            ALL_RAW_DATA[model][\"vqe\"].append(data)\n",
    "        elif filename_lower.endswith(\"_redundant.json\"):\n",
    "            ALL_RAW_DATA[model][\"redundant\"].append(data)\n",
    "        elif filename_lower.endswith(\"_zne.json\"):\n",
    "            ALL_RAW_DATA[model][\"zne\"].append(data)\n",
    "        elif filename_lower.endswith(\"_noise_off.json\"):\n",
    "            ALL_RAW_DATA[model][\"noiseoff\"].append(data)\n"
   ]
  },
  {
   "cell_type": "markdown",
   "id": "a9dac4d7",
   "metadata": {},
   "source": [
    "## (3) Extracting data\n",
    "\n",
    "<img src=\"../../figures/quantum_cicuit_standard_vs_redundant.jpg\" alt=\"std_vs_redun_circuit\" width=\"800\"/>\n",
    "\n",
    "\n",
    "Now lets extract some unformations.\n",
    "\n",
    "\n"
   ]
  },
  {
   "cell_type": "markdown",
   "id": "f6eba68c",
   "metadata": {},
   "source": [
    "### (A) The exact minimum eigen value\n",
    "\n",
    "Our target Hamiltonian is\n",
    "\n",
    "$$H_{Ising} = \\sum_{k=1}^{N-1} X_{k}X_{k+1} + \\sum_{k=1}^{N}Z_k$$\n",
    "\n",
    "where $N=7$.\n",
    "\n",
    "The exact minimum eigen value of the target observable (i.e. tranverse field Ising Hamiltonian for a 7-qubit system) is $-8.566772233505624$. This value is recored in `file_name_prefix_ZNE.json` files."
   ]
  },
  {
   "cell_type": "code",
   "execution_count": 4,
   "id": "85b33406",
   "metadata": {},
   "outputs": [
    {
     "name": "stdout",
     "output_type": "stream",
     "text": [
      "Exact solution: -8.566772233505624\n"
     ]
    }
   ],
   "source": [
    "exact_sol: float = -8.566772233505624\n",
    "print(f\"Exact solution: {exact_sol}\")"
   ]
  },
  {
   "cell_type": "markdown",
   "id": "f641b226",
   "metadata": {},
   "source": [
    "### (B) VQE estimations (noise is on)\n",
    "\n",
    "The noise level ($\\lambda$) is defined as \n",
    "$$\\lambda = n_R + 2 n_{CZ} + N n_T + n_Y$$\n",
    "\n",
    "where $nR, n_{CZ}, n_T, $ and $nY$ are proportinal to number of *noisy* rotation gates, two-qubit $CZ$ gate, the time-evolution gates, and Y gates. For the above circuit in the standard circuit (i.e. unboosted noise) noise level is $6$ while in the redundant circuit (i.e. boosted noise) noise level is $18$."
   ]
  },
  {
   "cell_type": "code",
   "execution_count": 5,
   "id": "db01a47c",
   "metadata": {},
   "outputs": [],
   "source": [
    "noise_levels: list=[13, 47]\n",
    "extrapolated_noise: int = 0"
   ]
  },
  {
   "cell_type": "markdown",
   "id": "8cf11243",
   "metadata": {},
   "source": [
    "### (C) Processing raw data"
   ]
  },
  {
   "cell_type": "code",
   "execution_count": 6,
   "id": "4947af90",
   "metadata": {},
   "outputs": [],
   "source": [
    "ALL_PROCESSED_DATA = {\n",
    "    model: {\n",
    "        \"vqe\": {},\n",
    "        \"redundant\": {},\n",
    "        \"zne\": {},\n",
    "        \"noiseoff\": {}  # Added to match the original structure\n",
    "    } for model in models\n",
    "}\n",
    "\n",
    "for model in models:\n",
    "    \n",
    "    ALL_PROCESSED_DATA[model][\"vqe\"] = {\n",
    "        \"mean\": np.mean(\n",
    "                    ALL_RAW_DATA[model][\"vqe\"][0][\"output\"][\"optimized_minimum_cost\"]\n",
    "                ),\n",
    "        \"std\": np.std(\n",
    "            ALL_RAW_DATA[model][\"vqe\"][0][\"output\"][\"optimized_minimum_cost\"]\n",
    "        )\n",
    "    }\n",
    "\n",
    "    ALL_PROCESSED_DATA[model][\"redundant\"] = {\n",
    "        \"noise_levels\": noise_levels,\n",
    "        \"mean\": [\n",
    "            np.mean(\n",
    "                [ALL_RAW_DATA[model][\"redundant\"][i][\"output\"][\"data_points\"][0][4] for i in range(len(ALL_RAW_DATA[model][\"redundant\"]))]\n",
    "\n",
    "            ),\n",
    "            np.mean(\n",
    "                [ALL_RAW_DATA[model][\"redundant\"][i][\"output\"][\"data_points\"][1][4] for i in range(len(ALL_RAW_DATA[model][\"redundant\"]))]\n",
    "\n",
    "            )\n",
    "        ],\n",
    "        \"std\": [\n",
    "            np.std(\n",
    "                [ALL_RAW_DATA[model][\"redundant\"][i][\"output\"][\"data_points\"][0][4] for i in range(len(ALL_RAW_DATA[model][\"redundant\"]))]\n",
    "\n",
    "            ),\n",
    "            np.std(\n",
    "                [ALL_RAW_DATA[model][\"redundant\"][i][\"output\"][\"data_points\"][1][4] for i in range(len(ALL_RAW_DATA[model][\"redundant\"]))]\n",
    "\n",
    "            )\n",
    "        ],\n",
    "    }\n",
    "\n",
    "    ALL_PROCESSED_DATA[model][\"zne\"] = {\n",
    "        \"mean\": np.mean(\n",
    "            [ALL_RAW_DATA[model][\"zne\"][i][\"output\"][\"zne_values\"][\"extrapolated_value\"]for i in range(len(ALL_RAW_DATA[model][\"zne\"]))]\n",
    "        ),\n",
    "        \"std\": np.std(\n",
    "            [ALL_RAW_DATA[model][\"zne\"][i][\"output\"][\"zne_values\"][\"extrapolated_value\"]for i in range(len(ALL_RAW_DATA[model][\"zne\"]))]\n",
    "        )\n",
    "    }\n",
    "\n",
    "    ALL_PROCESSED_DATA[model][\"noiseoff\"] = {\n",
    "        \"mean\": np.mean(\n",
    "            ALL_RAW_DATA[model][\"noiseoff\"][0][\"output\"][\"optimized_minimum_cost\"]\n",
    "        ),\n",
    "        \"std\": np.std(\n",
    "            ALL_RAW_DATA[model][\"noiseoff\"][0][\"output\"][\"optimized_minimum_cost\"]\n",
    "        )\n",
    "    }"
   ]
  },
  {
   "cell_type": "code",
   "execution_count": 7,
   "id": "8f9461e4",
   "metadata": {},
   "outputs": [
    {
     "data": {
      "text/plain": [
       "{'xy': {'vqe': {'mean': -6.435504654927141, 'std': 0.07144654504058062},\n",
       "  'redundant': {'noise_levels': [13, 47],\n",
       "   'mean': [-6.4355046549270964, -3.295143445760236],\n",
       "   'std': [0.07144654504058054, 0.10699332304001415]},\n",
       "  'zne': {'mean': -7.636230999608543, 'std': 0.07320688190321177},\n",
       "  'noiseoff': {'mean': -8.369342611101047, 'std': 0.15124979844206457}}}"
      ]
     },
     "execution_count": 7,
     "metadata": {},
     "output_type": "execute_result"
    }
   ],
   "source": [
    "ALL_PROCESSED_DATA"
   ]
  },
  {
   "cell_type": "code",
   "execution_count": 8,
   "id": "31e5be3e",
   "metadata": {},
   "outputs": [
    {
     "name": "stdout",
     "output_type": "stream",
     "text": [
      "Model    Category                  Mean        Std\n",
      "-------  --------------------  --------  ---------\n",
      "xy       vqe                   -6.4355   0.0714465\n",
      "xy       redundant (noise=13)  -6.4355   0.0714465\n",
      "xy       redundant (noise=47)  -3.29514  0.106993\n",
      "xy       zne                   -7.63623  0.0732069\n",
      "xy       noiseoff              -8.36934  0.15125\n"
     ]
    }
   ],
   "source": [
    "# Prepare rows for tabulation\n",
    "rows = []\n",
    "for model, methods in ALL_PROCESSED_DATA.items():\n",
    "    for method, stats in methods.items():\n",
    "        if method == \"redundant\":\n",
    "            for lvl, m, s in zip(stats['noise_levels'], stats['mean'], stats['std']):\n",
    "                rows.append([model, f\"{method} (noise={lvl})\", m, s])\n",
    "        elif stats:  # ignore empty \"noiseoff\"\n",
    "            rows.append([model, method, stats['mean'], stats['std']])\n",
    "        else:\n",
    "            rows.append([model, method, \"N/A\", \"N/A\"])\n",
    "\n",
    "# Print table\n",
    "headers = [\"Model\", \"Category\", \"Mean\", \"Std\"]\n",
    "print(tabulate(rows, headers=headers))"
   ]
  },
  {
   "cell_type": "markdown",
   "id": "062e64ac",
   "metadata": {},
   "source": [
    "## (4) Plot\n",
    "\n",
    "Finally we can plot the results.\n",
    "\n",
    "### (A) XY ansatz plot"
   ]
  },
  {
   "cell_type": "code",
   "execution_count": 9,
   "id": "29d47f99",
   "metadata": {},
   "outputs": [
    {
     "name": "stderr",
     "output_type": "stream",
     "text": [
      "The PostScript backend does not support transparency; partially transparent artists will be rendered opaque.\n"
     ]
    },
    {
     "data": {
      "image/png": "[encoded data removed]",
      "text/plain": [
       "<Figure size 400x600 with 1 Axes>"
      ]
     },
     "metadata": {},
     "output_type": "display_data"
    },
    {
     "name": "stdout",
     "output_type": "stream",
     "text": [
      "Figure saved as (in 'plots' folder): xy_ansatz_ric.eps\n"
     ]
    }
   ],
   "source": [
    "# Plot size\n",
    "plt.figure(figsize=(4, 6))\n",
    "# PLot name\n",
    "plot_name: str= \"xy_ansatz_ric.eps\"\n",
    "DATA= ALL_PROCESSED_DATA[\"xy\"]\n",
    "\n",
    "# Noisy estimation\n",
    "plt.errorbar(\n",
    "    x=noise_levels,\n",
    "    y=DATA[\"redundant\"][\"mean\"],\n",
    "    yerr=DATA[\"redundant\"][\"std\"], \n",
    "    fmt=\"o\", \n",
    "    ecolor=plot_colors[0],\n",
    "    capsize=5, \n",
    "    label=\"Noisy estimation\", \n",
    "    color=plot_colors[0]\n",
    ")\n",
    "# Extrapolated\n",
    "plt.errorbar(\n",
    "    x=extrapolated_noise, \n",
    "    y=DATA[\"zne\"][\"mean\"], \n",
    "    yerr=DATA[\"zne\"][\"std\"], \n",
    "    fmt=\"o\", \n",
    "    ecolor=plot_colors[2],\n",
    "    capsize=5, \n",
    "    label=\"Ric. ZNE value\", \n",
    "    color=plot_colors[2]\n",
    ")\n",
    "# Noise-free \n",
    "plt.errorbar(\n",
    "    x=0, \n",
    "    y=DATA[\"noiseoff\"][\"mean\"], \n",
    "    yerr=DATA[\"noiseoff\"][\"std\"], \n",
    "    fmt=\"o\", \n",
    "    ecolor=plot_colors[6],\n",
    "    capsize=5, \n",
    "    label=\"Noise-free estimation\", \n",
    "    color=plot_colors[6]\n",
    ")\n",
    "# Exact solution\n",
    "plt.axhline(y=exact_sol, color=plot_colors[5], linestyle=\"--\", label=f\"Exact Solution\")\n",
    "\n",
    "# Labels and title\n",
    "plt.xlabel(r\"Noise level ($\\alpha_k\\lambda$)\", fontsize=16)\n",
    "plt.ylabel(\"Expectation value\", fontsize=16)\n",
    "plt.title(plot_titles[\"xy\"])\n",
    "plt.grid(True, linestyle=\"--\", alpha=0.6)\n",
    "plt.legend(loc=\"upper left\", fontsize=14, frameon=False)\n",
    "# Save as eps\n",
    "plt.savefig(f\"plots/{plot_name}\", format=\"eps\")\n",
    "plt.show()\n",
    "print(\"Figure saved as (in 'plots' folder):\",  plot_name)"
   ]
  },
  {
   "cell_type": "markdown",
   "id": "91a2f25b",
   "metadata": {},
   "source": [
    "## (5) Summary"
   ]
  },
  {
   "cell_type": "code",
   "execution_count": null,
   "id": "c9724af4",
   "metadata": {},
   "outputs": [],
   "source": []
  }
 ],
 "metadata": {
  "kernelspec": {
   "display_name": ".env",
   "language": "python",
   "name": "python3"
  },
  "language_info": {
   "codemirror_mode": {
    "name": "ipython",
    "version": 3
   },
   "file_extension": ".py",
   "mimetype": "text/x-python",
   "name": "python",
   "nbconvert_exporter": "python",
   "pygments_lexer": "ipython3",
   "version": "3.11.0"
  }
 },
 "nbformat": 4,
 "nbformat_minor": 5
}
